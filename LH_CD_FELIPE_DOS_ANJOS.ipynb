{
 "cells": [
  {
   "cell_type": "code",
   "execution_count": 1,
   "id": "c55640bf",
   "metadata": {},
   "outputs": [],
   "source": [
    "import pandas as pd\n",
    "import seaborn as sns\n",
    "import matplotlib.pyplot as plt\n",
    "import numpy as np\n",
    "\n",
    "from sklearn.model_selection import train_test_split\n",
    "import statsmodels.formula.api as smf\n",
    "import statsmodels.api as sm\n",
    "import patsy\n",
    "\n",
    "from sklearn.tree import DecisionTreeRegressor\n",
    "from sklearn.metrics import mean_squared_error\n",
    "from sklearn import tree"
   ]
  },
  {
   "cell_type": "code",
   "execution_count": 2,
   "id": "74b93d80",
   "metadata": {},
   "outputs": [],
   "source": [
    "train = pd.read_csv('cars_train.csv',sep=';', encoding='latin1')"
   ]
  },
  {
   "cell_type": "code",
   "execution_count": 3,
   "id": "5a0cbd82",
   "metadata": {},
   "outputs": [],
   "source": [
    "test = pd.read_csv('cars_test.csv',encoding='latin1',sep=';')"
   ]
  },
  {
   "cell_type": "code",
   "execution_count": 4,
   "id": "39a192f5",
   "metadata": {},
   "outputs": [
    {
     "data": {
      "text/html": [
       "<div>\n",
       "<style scoped>\n",
       "    .dataframe tbody tr th:only-of-type {\n",
       "        vertical-align: middle;\n",
       "    }\n",
       "\n",
       "    .dataframe tbody tr th {\n",
       "        vertical-align: top;\n",
       "    }\n",
       "\n",
       "    .dataframe thead th {\n",
       "        text-align: right;\n",
       "    }\n",
       "</style>\n",
       "<table border=\"1\" class=\"dataframe\">\n",
       "  <thead>\n",
       "    <tr style=\"text-align: right;\">\n",
       "      <th></th>\n",
       "      <th>id</th>\n",
       "      <th>num_fotos</th>\n",
       "      <th>marca</th>\n",
       "      <th>modelo</th>\n",
       "      <th>versao</th>\n",
       "      <th>ano_de_fabricacao</th>\n",
       "      <th>ano_modelo</th>\n",
       "      <th>hodometro</th>\n",
       "      <th>cambio</th>\n",
       "      <th>num_portas</th>\n",
       "      <th>...</th>\n",
       "      <th>elegivel_revisao</th>\n",
       "      <th>dono_aceita_troca</th>\n",
       "      <th>veiculo_único_dono</th>\n",
       "      <th>revisoes_concessionaria</th>\n",
       "      <th>ipva_pago</th>\n",
       "      <th>veiculo_licenciado</th>\n",
       "      <th>garantia_de_fábrica</th>\n",
       "      <th>revisoes_dentro_agenda</th>\n",
       "      <th>veiculo_alienado</th>\n",
       "      <th>preco</th>\n",
       "    </tr>\n",
       "  </thead>\n",
       "  <tbody>\n",
       "    <tr>\n",
       "      <th>0</th>\n",
       "      <td>3,00716E+38</td>\n",
       "      <td>8.0</td>\n",
       "      <td>NISSAN</td>\n",
       "      <td>KICKS</td>\n",
       "      <td>1.6 16V FLEXSTART SL 4P XTRONIC</td>\n",
       "      <td>2017</td>\n",
       "      <td>2017.0</td>\n",
       "      <td>67772.0</td>\n",
       "      <td>CVT</td>\n",
       "      <td>4</td>\n",
       "      <td>...</td>\n",
       "      <td>False</td>\n",
       "      <td>NaN</td>\n",
       "      <td>NaN</td>\n",
       "      <td>Todas as revisões feitas pela concessionária</td>\n",
       "      <td>IPVA pago</td>\n",
       "      <td>Licenciado</td>\n",
       "      <td>NaN</td>\n",
       "      <td>NaN</td>\n",
       "      <td>NaN</td>\n",
       "      <td>7.473.259.008.373.930</td>\n",
       "    </tr>\n",
       "    <tr>\n",
       "      <th>1</th>\n",
       "      <td>2,7964E+38</td>\n",
       "      <td>8.0</td>\n",
       "      <td>JEEP</td>\n",
       "      <td>COMPASS</td>\n",
       "      <td>2.0 16V FLEX LIMITED AUTOMÁTICO</td>\n",
       "      <td>2017</td>\n",
       "      <td>2017.0</td>\n",
       "      <td>62979.0</td>\n",
       "      <td>Automática</td>\n",
       "      <td>4</td>\n",
       "      <td>...</td>\n",
       "      <td>False</td>\n",
       "      <td>Aceita troca</td>\n",
       "      <td>NaN</td>\n",
       "      <td>NaN</td>\n",
       "      <td>IPVA pago</td>\n",
       "      <td>NaN</td>\n",
       "      <td>NaN</td>\n",
       "      <td>NaN</td>\n",
       "      <td>NaN</td>\n",
       "      <td>8.196.533.263.377.470</td>\n",
       "    </tr>\n",
       "    <tr>\n",
       "      <th>2</th>\n",
       "      <td>5,64145E+37</td>\n",
       "      <td>16.0</td>\n",
       "      <td>KIA</td>\n",
       "      <td>SORENTO</td>\n",
       "      <td>2.4 16V GASOLINA EX 7L AWD AUTOMÁTICO</td>\n",
       "      <td>2018</td>\n",
       "      <td>2019.0</td>\n",
       "      <td>44070.0</td>\n",
       "      <td>Automática</td>\n",
       "      <td>4</td>\n",
       "      <td>...</td>\n",
       "      <td>False</td>\n",
       "      <td>Aceita troca</td>\n",
       "      <td>NaN</td>\n",
       "      <td>NaN</td>\n",
       "      <td>NaN</td>\n",
       "      <td>NaN</td>\n",
       "      <td>NaN</td>\n",
       "      <td>NaN</td>\n",
       "      <td>NaN</td>\n",
       "      <td>16.282.481.447.192</td>\n",
       "    </tr>\n",
       "    <tr>\n",
       "      <th>3</th>\n",
       "      <td>5,68625E+37</td>\n",
       "      <td>14.0</td>\n",
       "      <td>VOLKSWAGEN</td>\n",
       "      <td>AMAROK</td>\n",
       "      <td>2.0 HIGHLINE 4X4 CD 16V TURBO INTERCOOLER DIES...</td>\n",
       "      <td>2013</td>\n",
       "      <td>2015.0</td>\n",
       "      <td>85357.0</td>\n",
       "      <td>Automática</td>\n",
       "      <td>4</td>\n",
       "      <td>...</td>\n",
       "      <td>False</td>\n",
       "      <td>Aceita troca</td>\n",
       "      <td>NaN</td>\n",
       "      <td>NaN</td>\n",
       "      <td>IPVA pago</td>\n",
       "      <td>Licenciado</td>\n",
       "      <td>NaN</td>\n",
       "      <td>NaN</td>\n",
       "      <td>NaN</td>\n",
       "      <td>12.368.135.885.695.500</td>\n",
       "    </tr>\n",
       "    <tr>\n",
       "      <th>4</th>\n",
       "      <td>3,38981E+38</td>\n",
       "      <td>8.0</td>\n",
       "      <td>SSANGYONG</td>\n",
       "      <td>KORANDO</td>\n",
       "      <td>2.0 GLS 4X4 16V TURBO DIESEL 4P AUTOMÁTICO</td>\n",
       "      <td>2013</td>\n",
       "      <td>2015.0</td>\n",
       "      <td>71491.0</td>\n",
       "      <td>Automática</td>\n",
       "      <td>4</td>\n",
       "      <td>...</td>\n",
       "      <td>False</td>\n",
       "      <td>NaN</td>\n",
       "      <td>NaN</td>\n",
       "      <td>Todas as revisões feitas pela concessionária</td>\n",
       "      <td>NaN</td>\n",
       "      <td>NaN</td>\n",
       "      <td>Garantia de fábrica</td>\n",
       "      <td>Todas as revisões feitas pela agenda do carro</td>\n",
       "      <td>NaN</td>\n",
       "      <td>824.197.638.908.304</td>\n",
       "    </tr>\n",
       "  </tbody>\n",
       "</table>\n",
       "<p>5 rows × 29 columns</p>\n",
       "</div>"
      ],
      "text/plain": [
       "            id  num_fotos       marca   modelo  \\\n",
       "0  3,00716E+38        8.0      NISSAN    KICKS   \n",
       "1   2,7964E+38        8.0        JEEP  COMPASS   \n",
       "2  5,64145E+37       16.0         KIA  SORENTO   \n",
       "3  5,68625E+37       14.0  VOLKSWAGEN   AMAROK   \n",
       "4  3,38981E+38        8.0   SSANGYONG  KORANDO   \n",
       "\n",
       "                                              versao  ano_de_fabricacao  \\\n",
       "0                    1.6 16V FLEXSTART SL 4P XTRONIC               2017   \n",
       "1                    2.0 16V FLEX LIMITED AUTOMÁTICO               2017   \n",
       "2              2.4 16V GASOLINA EX 7L AWD AUTOMÁTICO               2018   \n",
       "3  2.0 HIGHLINE 4X4 CD 16V TURBO INTERCOOLER DIES...               2013   \n",
       "4         2.0 GLS 4X4 16V TURBO DIESEL 4P AUTOMÁTICO               2013   \n",
       "\n",
       "   ano_modelo  hodometro      cambio  num_portas  ... elegivel_revisao  \\\n",
       "0      2017.0    67772.0         CVT           4  ...            False   \n",
       "1      2017.0    62979.0  Automática           4  ...            False   \n",
       "2      2019.0    44070.0  Automática           4  ...            False   \n",
       "3      2015.0    85357.0  Automática           4  ...            False   \n",
       "4      2015.0    71491.0  Automática           4  ...            False   \n",
       "\n",
       "  dono_aceita_troca veiculo_único_dono  \\\n",
       "0               NaN                NaN   \n",
       "1      Aceita troca                NaN   \n",
       "2      Aceita troca                NaN   \n",
       "3      Aceita troca                NaN   \n",
       "4               NaN                NaN   \n",
       "\n",
       "                        revisoes_concessionaria  ipva_pago veiculo_licenciado  \\\n",
       "0  Todas as revisões feitas pela concessionária  IPVA pago         Licenciado   \n",
       "1                                           NaN  IPVA pago                NaN   \n",
       "2                                           NaN        NaN                NaN   \n",
       "3                                           NaN  IPVA pago         Licenciado   \n",
       "4  Todas as revisões feitas pela concessionária        NaN                NaN   \n",
       "\n",
       "   garantia_de_fábrica                         revisoes_dentro_agenda  \\\n",
       "0                  NaN                                            NaN   \n",
       "1                  NaN                                            NaN   \n",
       "2                  NaN                                            NaN   \n",
       "3                  NaN                                            NaN   \n",
       "4  Garantia de fábrica  Todas as revisões feitas pela agenda do carro   \n",
       "\n",
       "   veiculo_alienado                   preco  \n",
       "0               NaN   7.473.259.008.373.930  \n",
       "1               NaN   8.196.533.263.377.470  \n",
       "2               NaN      16.282.481.447.192  \n",
       "3               NaN  12.368.135.885.695.500  \n",
       "4               NaN     824.197.638.908.304  \n",
       "\n",
       "[5 rows x 29 columns]"
      ]
     },
     "execution_count": 4,
     "metadata": {},
     "output_type": "execute_result"
    }
   ],
   "source": [
    "train.head()"
   ]
  },
  {
   "cell_type": "code",
   "execution_count": 5,
   "id": "e1b6022b",
   "metadata": {},
   "outputs": [
    {
     "name": "stdout",
     "output_type": "stream",
     "text": [
      "<class 'pandas.core.frame.DataFrame'>\n",
      "RangeIndex: 29584 entries, 0 to 29583\n",
      "Data columns (total 29 columns):\n",
      " #   Column                   Non-Null Count  Dtype  \n",
      "---  ------                   --------------  -----  \n",
      " 0   id                       29584 non-null  object \n",
      " 1   num_fotos                29407 non-null  float64\n",
      " 2   marca                    29584 non-null  object \n",
      " 3   modelo                   29584 non-null  object \n",
      " 4   versao                   29584 non-null  object \n",
      " 5   ano_de_fabricacao        29584 non-null  int64  \n",
      " 6   ano_modelo               29584 non-null  float64\n",
      " 7   hodometro                29584 non-null  float64\n",
      " 8   cambio                   29584 non-null  object \n",
      " 9   num_portas               29584 non-null  int64  \n",
      " 10  tipo                     29584 non-null  object \n",
      " 11  blindado                 29584 non-null  object \n",
      " 12  cor                      29584 non-null  object \n",
      " 13  tipo_vendedor            29584 non-null  object \n",
      " 14  cidade_vendedor          29584 non-null  object \n",
      " 15  estado_vendedor          29584 non-null  object \n",
      " 16  anunciante               29584 non-null  object \n",
      " 17  entrega_delivery         29584 non-null  bool   \n",
      " 18  troca                    29584 non-null  bool   \n",
      " 19  elegivel_revisao         29584 non-null  bool   \n",
      " 20  dono_aceita_troca        21922 non-null  object \n",
      " 21  veiculo_único_dono       10423 non-null  object \n",
      " 22  revisoes_concessionaria  9172 non-null   object \n",
      " 23  ipva_pago                19659 non-null  object \n",
      " 24  veiculo_licenciado       15906 non-null  object \n",
      " 25  garantia_de_fábrica      4365 non-null   object \n",
      " 26  revisoes_dentro_agenda   5910 non-null   object \n",
      " 27  veiculo_alienado         0 non-null      float64\n",
      " 28  preco                    29584 non-null  object \n",
      "dtypes: bool(3), float64(4), int64(2), object(20)\n",
      "memory usage: 6.0+ MB\n"
     ]
    }
   ],
   "source": [
    "train.info()"
   ]
  },
  {
   "cell_type": "code",
   "execution_count": 6,
   "id": "06a6123a",
   "metadata": {},
   "outputs": [
    {
     "data": {
      "text/html": [
       "<div>\n",
       "<style scoped>\n",
       "    .dataframe tbody tr th:only-of-type {\n",
       "        vertical-align: middle;\n",
       "    }\n",
       "\n",
       "    .dataframe tbody tr th {\n",
       "        vertical-align: top;\n",
       "    }\n",
       "\n",
       "    .dataframe thead th {\n",
       "        text-align: right;\n",
       "    }\n",
       "</style>\n",
       "<table border=\"1\" class=\"dataframe\">\n",
       "  <thead>\n",
       "    <tr style=\"text-align: right;\">\n",
       "      <th></th>\n",
       "      <th>count</th>\n",
       "      <th>mean</th>\n",
       "      <th>std</th>\n",
       "      <th>min</th>\n",
       "      <th>25%</th>\n",
       "      <th>50%</th>\n",
       "      <th>75%</th>\n",
       "      <th>max</th>\n",
       "    </tr>\n",
       "  </thead>\n",
       "  <tbody>\n",
       "    <tr>\n",
       "      <th>num_fotos</th>\n",
       "      <td>29407.0</td>\n",
       "      <td>10.323834</td>\n",
       "      <td>3.487334</td>\n",
       "      <td>8.0</td>\n",
       "      <td>8.0</td>\n",
       "      <td>8.0</td>\n",
       "      <td>14.0</td>\n",
       "      <td>21.0</td>\n",
       "    </tr>\n",
       "    <tr>\n",
       "      <th>ano_de_fabricacao</th>\n",
       "      <td>29584.0</td>\n",
       "      <td>2016.758552</td>\n",
       "      <td>4.062422</td>\n",
       "      <td>1985.0</td>\n",
       "      <td>2015.0</td>\n",
       "      <td>2018.0</td>\n",
       "      <td>2019.0</td>\n",
       "      <td>2022.0</td>\n",
       "    </tr>\n",
       "    <tr>\n",
       "      <th>ano_modelo</th>\n",
       "      <td>29584.0</td>\n",
       "      <td>2017.808985</td>\n",
       "      <td>2.673930</td>\n",
       "      <td>1997.0</td>\n",
       "      <td>2016.0</td>\n",
       "      <td>2018.0</td>\n",
       "      <td>2020.0</td>\n",
       "      <td>2023.0</td>\n",
       "    </tr>\n",
       "    <tr>\n",
       "      <th>hodometro</th>\n",
       "      <td>29584.0</td>\n",
       "      <td>58430.592077</td>\n",
       "      <td>32561.769309</td>\n",
       "      <td>100.0</td>\n",
       "      <td>31214.0</td>\n",
       "      <td>57434.0</td>\n",
       "      <td>81953.5</td>\n",
       "      <td>390065.0</td>\n",
       "    </tr>\n",
       "    <tr>\n",
       "      <th>num_portas</th>\n",
       "      <td>29584.0</td>\n",
       "      <td>3.940677</td>\n",
       "      <td>0.338360</td>\n",
       "      <td>2.0</td>\n",
       "      <td>4.0</td>\n",
       "      <td>4.0</td>\n",
       "      <td>4.0</td>\n",
       "      <td>4.0</td>\n",
       "    </tr>\n",
       "    <tr>\n",
       "      <th>veiculo_alienado</th>\n",
       "      <td>0.0</td>\n",
       "      <td>NaN</td>\n",
       "      <td>NaN</td>\n",
       "      <td>NaN</td>\n",
       "      <td>NaN</td>\n",
       "      <td>NaN</td>\n",
       "      <td>NaN</td>\n",
       "      <td>NaN</td>\n",
       "    </tr>\n",
       "  </tbody>\n",
       "</table>\n",
       "</div>"
      ],
      "text/plain": [
       "                     count          mean           std     min      25%  \\\n",
       "num_fotos          29407.0     10.323834      3.487334     8.0      8.0   \n",
       "ano_de_fabricacao  29584.0   2016.758552      4.062422  1985.0   2015.0   \n",
       "ano_modelo         29584.0   2017.808985      2.673930  1997.0   2016.0   \n",
       "hodometro          29584.0  58430.592077  32561.769309   100.0  31214.0   \n",
       "num_portas         29584.0      3.940677      0.338360     2.0      4.0   \n",
       "veiculo_alienado       0.0           NaN           NaN     NaN      NaN   \n",
       "\n",
       "                       50%      75%       max  \n",
       "num_fotos              8.0     14.0      21.0  \n",
       "ano_de_fabricacao   2018.0   2019.0    2022.0  \n",
       "ano_modelo          2018.0   2020.0    2023.0  \n",
       "hodometro          57434.0  81953.5  390065.0  \n",
       "num_portas             4.0      4.0       4.0  \n",
       "veiculo_alienado       NaN      NaN       NaN  "
      ]
     },
     "execution_count": 6,
     "metadata": {},
     "output_type": "execute_result"
    }
   ],
   "source": [
    "train.describe().transpose()"
   ]
  },
  {
   "cell_type": "code",
   "execution_count": 7,
   "id": "6953cf57",
   "metadata": {},
   "outputs": [
    {
     "data": {
      "text/plain": [
       "veiculo_alienado           29584\n",
       "garantia_de_fábrica        25219\n",
       "revisoes_dentro_agenda     23674\n",
       "revisoes_concessionaria    20412\n",
       "veiculo_único_dono         19161\n",
       "veiculo_licenciado         13678\n",
       "ipva_pago                   9925\n",
       "dono_aceita_troca           7662\n",
       "num_fotos                    177\n",
       "id                             0\n",
       "dtype: int64"
      ]
     },
     "execution_count": 7,
     "metadata": {},
     "output_type": "execute_result"
    }
   ],
   "source": [
    "train.isna().sum().sort_values(ascending=False)[0:10]"
   ]
  },
  {
   "cell_type": "code",
   "execution_count": 8,
   "id": "d8d8ad24",
   "metadata": {},
   "outputs": [
    {
     "data": {
      "text/plain": [
       "Garantia de fábrica    4365\n",
       "Name: garantia_de_fábrica, dtype: int64"
      ]
     },
     "execution_count": 8,
     "metadata": {},
     "output_type": "execute_result"
    }
   ],
   "source": [
    "train.garantia_de_fábrica.value_counts()"
   ]
  },
  {
   "cell_type": "code",
   "execution_count": 9,
   "id": "7483b9a6",
   "metadata": {},
   "outputs": [],
   "source": [
    "train.garantia_de_fábrica = train.garantia_de_fábrica.replace('Garantia de fábrica',1)\n",
    "train.garantia_de_fábrica = train.garantia_de_fábrica.fillna(0)"
   ]
  },
  {
   "cell_type": "code",
   "execution_count": 10,
   "id": "688e95e3",
   "metadata": {},
   "outputs": [
    {
     "name": "stderr",
     "output_type": "stream",
     "text": [
      "C:\\Users\\felip\\AppData\\Local\\Temp\\ipykernel_5016\\2808840279.py:3: SettingWithCopyWarning: \n",
      "A value is trying to be set on a copy of a slice from a DataFrame\n",
      "\n",
      "See the caveats in the documentation: https://pandas.pydata.org/pandas-docs/stable/user_guide/indexing.html#returning-a-view-versus-a-copy\n",
      "  train.preco[i] = preco\n"
     ]
    }
   ],
   "source": [
    "for i in range(0,29584):\n",
    "    preco = train.preco[i].replace('.','')\n",
    "    train.preco[i] = preco"
   ]
  },
  {
   "cell_type": "code",
   "execution_count": 11,
   "id": "17c2c35b",
   "metadata": {},
   "outputs": [],
   "source": [
    "train.preco = train.preco.astype(float)"
   ]
  },
  {
   "cell_type": "markdown",
   "id": "d6bbff54",
   "metadata": {},
   "source": [
    "## Qual o melhor estado cadastrado na base de dados para se vender um carro de marca popular e por quê?\n"
   ]
  },
  {
   "cell_type": "code",
   "execution_count": 12,
   "id": "d9df27a9",
   "metadata": {
    "scrolled": true
   },
   "outputs": [
    {
     "data": {
      "text/plain": [
       "VOLKSWAGEN       4594\n",
       "CHEVROLET        3020\n",
       "TOYOTA           2180\n",
       "HYUNDAI          2043\n",
       "JEEP             2000\n",
       "FIAT             1918\n",
       "BMW              1784\n",
       "AUDI             1698\n",
       "PEUGEOT          1675\n",
       "HONDA            1586\n",
       "MERCEDES-BENZ    1125\n",
       "FORD             1060\n",
       "MITSUBISHI        862\n",
       "LAND ROVER        760\n",
       "RENAULT           538\n",
       "NISSAN            438\n",
       "KIA               408\n",
       "PORSCHE           349\n",
       "VOLVO             287\n",
       "CITROËN           194\n",
       "TROLLER           177\n",
       "RAM               168\n",
       "CHERY             153\n",
       "JAGUAR            148\n",
       "MINI              137\n",
       "LEXUS              75\n",
       "SUZUKI             41\n",
       "SUBARU             41\n",
       "DODGE              37\n",
       "CHRYSLER           30\n",
       "SSANGYONG          14\n",
       "SMART              12\n",
       "ALFA ROMEO          9\n",
       "LIFAN               8\n",
       "MASERATI            7\n",
       "JAC                 3\n",
       "IVECO               2\n",
       "EFFA                1\n",
       "FERRARI             1\n",
       "BRM                 1\n",
       "Name: marca, dtype: int64"
      ]
     },
     "execution_count": 12,
     "metadata": {},
     "output_type": "execute_result"
    }
   ],
   "source": [
    "train.marca.value_counts()"
   ]
  },
  {
   "cell_type": "code",
   "execution_count": 13,
   "id": "30635dd5",
   "metadata": {},
   "outputs": [],
   "source": [
    "marca_popular = ['VOLKSWAGEN','CHEVROLET','TOYOTA','HYUNDAI','FIAT','PEUGEOT','HONDA','FORD','RENAULT','NISSAN','CITROEN']"
   ]
  },
  {
   "cell_type": "code",
   "execution_count": 14,
   "id": "c18d5cb3",
   "metadata": {},
   "outputs": [
    {
     "name": "stderr",
     "output_type": "stream",
     "text": [
      "C:\\Users\\felip\\AppData\\Local\\Temp\\ipykernel_5016\\4272265483.py:4: SettingWithCopyWarning: \n",
      "A value is trying to be set on a copy of a slice from a DataFrame\n",
      "\n",
      "See the caveats in the documentation: https://pandas.pydata.org/pandas-docs/stable/user_guide/indexing.html#returning-a-view-versus-a-copy\n",
      "  train['marca'][train_mask] = 1\n"
     ]
    }
   ],
   "source": [
    "for i in range(0,11):\n",
    "    marca = marca_popular[i]\n",
    "    train_mask = train.marca==marca\n",
    "    train['marca'][train_mask] = 1"
   ]
  },
  {
   "cell_type": "code",
   "execution_count": 15,
   "id": "86becbca",
   "metadata": {},
   "outputs": [
    {
     "name": "stderr",
     "output_type": "stream",
     "text": [
      "C:\\Users\\felip\\AppData\\Local\\Temp\\ipykernel_5016\\3932462226.py:5: SettingWithCopyWarning: \n",
      "A value is trying to be set on a copy of a slice from a DataFrame\n",
      "\n",
      "See the caveats in the documentation: https://pandas.pydata.org/pandas-docs/stable/user_guide/indexing.html#returning-a-view-versus-a-copy\n",
      "  train['marca'][train_mask] = 0\n"
     ]
    }
   ],
   "source": [
    "marca_nao_popular = train.marca.value_counts().index[1:]\n",
    "for i in range(0,30):\n",
    "    marca = marca_nao_popular[i]\n",
    "    train_mask = train.marca==marca\n",
    "    train['marca'][train_mask] = 0"
   ]
  },
  {
   "cell_type": "code",
   "execution_count": 16,
   "id": "88d78320",
   "metadata": {},
   "outputs": [],
   "source": [
    "train.rename({\"marca\": \"marca_popular\"}, axis=1, inplace=True)"
   ]
  },
  {
   "cell_type": "code",
   "execution_count": 17,
   "id": "25cd8d42",
   "metadata": {
    "scrolled": false
   },
   "outputs": [
    {
     "data": {
      "text/html": [
       "<div>\n",
       "<style scoped>\n",
       "    .dataframe tbody tr th:only-of-type {\n",
       "        vertical-align: middle;\n",
       "    }\n",
       "\n",
       "    .dataframe tbody tr th {\n",
       "        vertical-align: top;\n",
       "    }\n",
       "\n",
       "    .dataframe thead th {\n",
       "        text-align: right;\n",
       "    }\n",
       "</style>\n",
       "<table border=\"1\" class=\"dataframe\">\n",
       "  <thead>\n",
       "    <tr style=\"text-align: right;\">\n",
       "      <th></th>\n",
       "      <th>garantia_de_fábrica</th>\n",
       "      <th>preco</th>\n",
       "    </tr>\n",
       "    <tr>\n",
       "      <th>estado_vendedor</th>\n",
       "      <th></th>\n",
       "      <th></th>\n",
       "    </tr>\n",
       "  </thead>\n",
       "  <tbody>\n",
       "    <tr>\n",
       "      <th>São Paulo (SP)</th>\n",
       "      <td>2307.0</td>\n",
       "      <td>1.640546e+20</td>\n",
       "    </tr>\n",
       "    <tr>\n",
       "      <th>Rio de Janeiro (RJ)</th>\n",
       "      <td>412.0</td>\n",
       "      <td>2.503207e+19</td>\n",
       "    </tr>\n",
       "    <tr>\n",
       "      <th>Paraná (PR)</th>\n",
       "      <td>389.0</td>\n",
       "      <td>2.624164e+19</td>\n",
       "    </tr>\n",
       "    <tr>\n",
       "      <th>Santa Catarina (SC)</th>\n",
       "      <td>330.0</td>\n",
       "      <td>2.287032e+19</td>\n",
       "    </tr>\n",
       "    <tr>\n",
       "      <th>Rio Grande do Sul (RS)</th>\n",
       "      <td>281.0</td>\n",
       "      <td>1.714449e+19</td>\n",
       "    </tr>\n",
       "    <tr>\n",
       "      <th>Minas Gerais (MG)</th>\n",
       "      <td>264.0</td>\n",
       "      <td>1.734564e+19</td>\n",
       "    </tr>\n",
       "    <tr>\n",
       "      <th>Goiás (GO)</th>\n",
       "      <td>186.0</td>\n",
       "      <td>7.577309e+18</td>\n",
       "    </tr>\n",
       "    <tr>\n",
       "      <th>Alagoas (AL)</th>\n",
       "      <td>58.0</td>\n",
       "      <td>1.160240e+18</td>\n",
       "    </tr>\n",
       "    <tr>\n",
       "      <th>Bahia (BA)</th>\n",
       "      <td>51.0</td>\n",
       "      <td>6.309727e+18</td>\n",
       "    </tr>\n",
       "    <tr>\n",
       "      <th>Pernambuco (PE)</th>\n",
       "      <td>20.0</td>\n",
       "      <td>3.201976e+18</td>\n",
       "    </tr>\n",
       "    <tr>\n",
       "      <th>Pará (PA)</th>\n",
       "      <td>17.0</td>\n",
       "      <td>7.458559e+17</td>\n",
       "    </tr>\n",
       "    <tr>\n",
       "      <th>Mato Grosso do Sul (MS)</th>\n",
       "      <td>13.0</td>\n",
       "      <td>2.727490e+17</td>\n",
       "    </tr>\n",
       "    <tr>\n",
       "      <th>Espírito Santo (ES)</th>\n",
       "      <td>9.0</td>\n",
       "      <td>1.862058e+17</td>\n",
       "    </tr>\n",
       "    <tr>\n",
       "      <th>Amazonas (AM)</th>\n",
       "      <td>9.0</td>\n",
       "      <td>5.062167e+17</td>\n",
       "    </tr>\n",
       "    <tr>\n",
       "      <th>Rio Grande do Norte (RN)</th>\n",
       "      <td>9.0</td>\n",
       "      <td>8.999459e+17</td>\n",
       "    </tr>\n",
       "    <tr>\n",
       "      <th>Sergipe (SE)</th>\n",
       "      <td>3.0</td>\n",
       "      <td>2.736305e+17</td>\n",
       "    </tr>\n",
       "    <tr>\n",
       "      <th>Mato Grosso (MT)</th>\n",
       "      <td>2.0</td>\n",
       "      <td>2.859658e+17</td>\n",
       "    </tr>\n",
       "    <tr>\n",
       "      <th>Acre (AC)</th>\n",
       "      <td>2.0</td>\n",
       "      <td>3.325828e+17</td>\n",
       "    </tr>\n",
       "    <tr>\n",
       "      <th>Paraíba (PB)</th>\n",
       "      <td>1.0</td>\n",
       "      <td>9.583681e+17</td>\n",
       "    </tr>\n",
       "    <tr>\n",
       "      <th>Ceará (CE)</th>\n",
       "      <td>1.0</td>\n",
       "      <td>7.199197e+17</td>\n",
       "    </tr>\n",
       "    <tr>\n",
       "      <th>Tocantins (TO)</th>\n",
       "      <td>1.0</td>\n",
       "      <td>2.248968e+17</td>\n",
       "    </tr>\n",
       "    <tr>\n",
       "      <th>Rondônia (RO)</th>\n",
       "      <td>0.0</td>\n",
       "      <td>1.325756e+16</td>\n",
       "    </tr>\n",
       "    <tr>\n",
       "      <th>Roraima (RR)</th>\n",
       "      <td>0.0</td>\n",
       "      <td>1.272274e+16</td>\n",
       "    </tr>\n",
       "    <tr>\n",
       "      <th>Piauí (PI)</th>\n",
       "      <td>0.0</td>\n",
       "      <td>6.512773e+16</td>\n",
       "    </tr>\n",
       "    <tr>\n",
       "      <th>Maranhão (MA)</th>\n",
       "      <td>0.0</td>\n",
       "      <td>8.472918e+16</td>\n",
       "    </tr>\n",
       "  </tbody>\n",
       "</table>\n",
       "</div>"
      ],
      "text/plain": [
       "                          garantia_de_fábrica         preco\n",
       "estado_vendedor                                            \n",
       "São Paulo (SP)                         2307.0  1.640546e+20\n",
       "Rio de Janeiro (RJ)                     412.0  2.503207e+19\n",
       "Paraná (PR)                             389.0  2.624164e+19\n",
       "Santa Catarina (SC)                     330.0  2.287032e+19\n",
       "Rio Grande do Sul (RS)                  281.0  1.714449e+19\n",
       "Minas Gerais (MG)                       264.0  1.734564e+19\n",
       "Goiás (GO)                              186.0  7.577309e+18\n",
       "Alagoas (AL)                             58.0  1.160240e+18\n",
       "Bahia (BA)                               51.0  6.309727e+18\n",
       "Pernambuco (PE)                          20.0  3.201976e+18\n",
       "Pará (PA)                                17.0  7.458559e+17\n",
       "Mato Grosso do Sul (MS)                  13.0  2.727490e+17\n",
       "Espírito Santo (ES)                       9.0  1.862058e+17\n",
       "Amazonas (AM)                             9.0  5.062167e+17\n",
       "Rio Grande do Norte (RN)                  9.0  8.999459e+17\n",
       "Sergipe (SE)                              3.0  2.736305e+17\n",
       "Mato Grosso (MT)                          2.0  2.859658e+17\n",
       "Acre (AC)                                 2.0  3.325828e+17\n",
       "Paraíba (PB)                              1.0  9.583681e+17\n",
       "Ceará (CE)                                1.0  7.199197e+17\n",
       "Tocantins (TO)                            1.0  2.248968e+17\n",
       "Rondônia (RO)                             0.0  1.325756e+16\n",
       "Roraima (RR)                              0.0  1.272274e+16\n",
       "Piauí (PI)                                0.0  6.512773e+16\n",
       "Maranhão (MA)                             0.0  8.472918e+16"
      ]
     },
     "execution_count": 17,
     "metadata": {},
     "output_type": "execute_result"
    }
   ],
   "source": [
    "num_carros_garantia = train[['garantia_de_fábrica','preco','estado_vendedor']].groupby('estado_vendedor').sum().sort_values('garantia_de_fábrica' ,ascending=False)\n",
    "num_carros_garantia"
   ]
  },
  {
   "cell_type": "markdown",
   "id": "80315a43",
   "metadata": {},
   "source": [
    "## Aqui levando em conta o número de carros cadastrados na base com garantia, definimos SP como o grande vencedor, mas vamos fazer uma análise mais a fundo, visto que o preço somatório dos carros também está muito a cima, indicando que SP tem preços elevados e/ou tem uma maior quantidade de carros que os demais estados"
   ]
  },
  {
   "cell_type": "code",
   "execution_count": 18,
   "id": "c60e2c59",
   "metadata": {},
   "outputs": [],
   "source": [
    "selecao_estados = num_carros_garantia.index[0:6]"
   ]
  },
  {
   "cell_type": "markdown",
   "id": "42072045",
   "metadata": {},
   "source": [
    "Vamos selecionar os estados que mais têm carros com garantia de fábrica para levar outros fatores em consideração"
   ]
  },
  {
   "cell_type": "code",
   "execution_count": 19,
   "id": "16ddf13a",
   "metadata": {},
   "outputs": [],
   "source": [
    "def listaFiltro(dataframe,nome, valores):\n",
    "    return dataframe.loc[dataframe[nome].isin(valores)]\n",
    "lista = selecao_estados.values\n",
    "dfteste = listaFiltro(train,'estado_vendedor' ,lista)"
   ]
  },
  {
   "cell_type": "code",
   "execution_count": 20,
   "id": "23091498",
   "metadata": {},
   "outputs": [
    {
     "data": {
      "text/html": [
       "<div>\n",
       "<style scoped>\n",
       "    .dataframe tbody tr th:only-of-type {\n",
       "        vertical-align: middle;\n",
       "    }\n",
       "\n",
       "    .dataframe tbody tr th {\n",
       "        vertical-align: top;\n",
       "    }\n",
       "\n",
       "    .dataframe thead th {\n",
       "        text-align: right;\n",
       "    }\n",
       "</style>\n",
       "<table border=\"1\" class=\"dataframe\">\n",
       "  <thead>\n",
       "    <tr style=\"text-align: right;\">\n",
       "      <th></th>\n",
       "      <th>garantia_de_fábrica</th>\n",
       "      <th>preco</th>\n",
       "    </tr>\n",
       "    <tr>\n",
       "      <th>estado_vendedor</th>\n",
       "      <th></th>\n",
       "      <th></th>\n",
       "    </tr>\n",
       "  </thead>\n",
       "  <tbody>\n",
       "    <tr>\n",
       "      <th>Rio Grande do Sul (RS)</th>\n",
       "      <td>0.170717</td>\n",
       "      <td>1.041585e+16</td>\n",
       "    </tr>\n",
       "    <tr>\n",
       "      <th>Paraná (PR)</th>\n",
       "      <td>0.153998</td>\n",
       "      <td>1.038861e+16</td>\n",
       "    </tr>\n",
       "    <tr>\n",
       "      <th>São Paulo (SP)</th>\n",
       "      <td>0.140860</td>\n",
       "      <td>1.001677e+16</td>\n",
       "    </tr>\n",
       "    <tr>\n",
       "      <th>Santa Catarina (SC)</th>\n",
       "      <td>0.143354</td>\n",
       "      <td>9.934976e+15</td>\n",
       "    </tr>\n",
       "    <tr>\n",
       "      <th>Rio de Janeiro (RJ)</th>\n",
       "      <td>0.161695</td>\n",
       "      <td>9.824204e+15</td>\n",
       "    </tr>\n",
       "    <tr>\n",
       "      <th>Minas Gerais (MG)</th>\n",
       "      <td>0.148732</td>\n",
       "      <td>9.772193e+15</td>\n",
       "    </tr>\n",
       "  </tbody>\n",
       "</table>\n",
       "</div>"
      ],
      "text/plain": [
       "                        garantia_de_fábrica         preco\n",
       "estado_vendedor                                          \n",
       "Rio Grande do Sul (RS)             0.170717  1.041585e+16\n",
       "Paraná (PR)                        0.153998  1.038861e+16\n",
       "São Paulo (SP)                     0.140860  1.001677e+16\n",
       "Santa Catarina (SC)                0.143354  9.934976e+15\n",
       "Rio de Janeiro (RJ)                0.161695  9.824204e+15\n",
       "Minas Gerais (MG)                  0.148732  9.772193e+15"
      ]
     },
     "execution_count": 20,
     "metadata": {},
     "output_type": "execute_result"
    }
   ],
   "source": [
    "dfteste[['estado_vendedor','garantia_de_fábrica','preco']].groupby('estado_vendedor').mean().sort_values('preco',ascending=False)"
   ]
  },
  {
   "cell_type": "markdown",
   "id": "d5fb1fe8",
   "metadata": {},
   "source": [
    "## Aqui podemos tirar alguns insights importantes, RS é o estado com a média de preço de venda mais alta, e como estamos procurando o melhor estado para vender um carro popular, isso tem grande peso, mas os 3 primeiros estados estão bem próximos, e identificamos SP novamente em mais uma condição favorável, a média de carros com garantia em SP também é considerável em relação aos demais, mesmo não sendo o maior, SP apresenta uma quantidade maior de veículos o que também influencia nessa média, sendo assim concluímos que:"
   ]
  },
  {
   "cell_type": "markdown",
   "id": "d5ab3e02",
   "metadata": {},
   "source": [
    "# SP é nosso vencedor, para se vender um carro de marca popular, pois alcancaremos um preço de mercado bom, e também tem aceitação das pessoas em pagar um valor um pouco mais alto em carros que tenham garantia de fábrica"
   ]
  },
  {
   "cell_type": "markdown",
   "id": "41f83c84",
   "metadata": {},
   "source": [
    "## Agora vamos responder o próximo problema de negócio"
   ]
  },
  {
   "cell_type": "markdown",
   "id": "44ec02af",
   "metadata": {},
   "source": [
    "# Qual o melhor estado para se comprar uma picape com transmissão automática e por quê?"
   ]
  },
  {
   "cell_type": "code",
   "execution_count": 21,
   "id": "dddf739f",
   "metadata": {},
   "outputs": [
    {
     "data": {
      "text/plain": [
       "Automática               22545\n",
       "Manual                    4989\n",
       "CVT                       1792\n",
       "Automatizada               139\n",
       "Automatizada DCT            53\n",
       "Semi-automática             41\n",
       "Automática Sequencial       25\n",
       "Name: cambio, dtype: int64"
      ]
     },
     "execution_count": 21,
     "metadata": {},
     "output_type": "execute_result"
    }
   ],
   "source": [
    "train.cambio.value_counts()[0:10]"
   ]
  },
  {
   "cell_type": "code",
   "execution_count": 22,
   "id": "902ba44a",
   "metadata": {},
   "outputs": [
    {
     "data": {
      "text/html": [
       "<div>\n",
       "<style scoped>\n",
       "    .dataframe tbody tr th:only-of-type {\n",
       "        vertical-align: middle;\n",
       "    }\n",
       "\n",
       "    .dataframe tbody tr th {\n",
       "        vertical-align: top;\n",
       "    }\n",
       "\n",
       "    .dataframe thead th {\n",
       "        text-align: right;\n",
       "    }\n",
       "</style>\n",
       "<table border=\"1\" class=\"dataframe\">\n",
       "  <thead>\n",
       "    <tr style=\"text-align: right;\">\n",
       "      <th></th>\n",
       "      <th>tipo</th>\n",
       "    </tr>\n",
       "    <tr>\n",
       "      <th>estado_vendedor</th>\n",
       "      <th></th>\n",
       "    </tr>\n",
       "  </thead>\n",
       "  <tbody>\n",
       "    <tr>\n",
       "      <th>São Paulo (SP)</th>\n",
       "      <td>1712</td>\n",
       "    </tr>\n",
       "    <tr>\n",
       "      <th>Paraná (PR)</th>\n",
       "      <td>348</td>\n",
       "    </tr>\n",
       "    <tr>\n",
       "      <th>Rio de Janeiro (RJ)</th>\n",
       "      <td>318</td>\n",
       "    </tr>\n",
       "    <tr>\n",
       "      <th>Santa Catarina (SC)</th>\n",
       "      <td>283</td>\n",
       "    </tr>\n",
       "    <tr>\n",
       "      <th>Minas Gerais (MG)</th>\n",
       "      <td>211</td>\n",
       "    </tr>\n",
       "    <tr>\n",
       "      <th>Rio Grande do Sul (RS)</th>\n",
       "      <td>198</td>\n",
       "    </tr>\n",
       "    <tr>\n",
       "      <th>Goiás (GO)</th>\n",
       "      <td>102</td>\n",
       "    </tr>\n",
       "    <tr>\n",
       "      <th>Bahia (BA)</th>\n",
       "      <td>68</td>\n",
       "    </tr>\n",
       "    <tr>\n",
       "      <th>Pernambuco (PE)</th>\n",
       "      <td>14</td>\n",
       "    </tr>\n",
       "    <tr>\n",
       "      <th>Alagoas (AL)</th>\n",
       "      <td>12</td>\n",
       "    </tr>\n",
       "    <tr>\n",
       "      <th>Acre (AC)</th>\n",
       "      <td>6</td>\n",
       "    </tr>\n",
       "    <tr>\n",
       "      <th>Mato Grosso (MT)</th>\n",
       "      <td>6</td>\n",
       "    </tr>\n",
       "    <tr>\n",
       "      <th>Mato Grosso do Sul (MS)</th>\n",
       "      <td>5</td>\n",
       "    </tr>\n",
       "    <tr>\n",
       "      <th>Sergipe (SE)</th>\n",
       "      <td>5</td>\n",
       "    </tr>\n",
       "    <tr>\n",
       "      <th>Piauí (PI)</th>\n",
       "      <td>4</td>\n",
       "    </tr>\n",
       "    <tr>\n",
       "      <th>Paraíba (PB)</th>\n",
       "      <td>4</td>\n",
       "    </tr>\n",
       "    <tr>\n",
       "      <th>Tocantins (TO)</th>\n",
       "      <td>3</td>\n",
       "    </tr>\n",
       "    <tr>\n",
       "      <th>Rio Grande do Norte (RN)</th>\n",
       "      <td>1</td>\n",
       "    </tr>\n",
       "  </tbody>\n",
       "</table>\n",
       "</div>"
      ],
      "text/plain": [
       "                          tipo\n",
       "estado_vendedor               \n",
       "São Paulo (SP)            1712\n",
       "Paraná (PR)                348\n",
       "Rio de Janeiro (RJ)        318\n",
       "Santa Catarina (SC)        283\n",
       "Minas Gerais (MG)          211\n",
       "Rio Grande do Sul (RS)     198\n",
       "Goiás (GO)                 102\n",
       "Bahia (BA)                  68\n",
       "Pernambuco (PE)             14\n",
       "Alagoas (AL)                12\n",
       "Acre (AC)                    6\n",
       "Mato Grosso (MT)             6\n",
       "Mato Grosso do Sul (MS)      5\n",
       "Sergipe (SE)                 5\n",
       "Piauí (PI)                   4\n",
       "Paraíba (PB)                 4\n",
       "Tocantins (TO)               3\n",
       "Rio Grande do Norte (RN)     1"
      ]
     },
     "execution_count": 22,
     "metadata": {},
     "output_type": "execute_result"
    }
   ],
   "source": [
    "picape_automatica = train[(train.tipo == 'Picape')& (train.cambio == 'Automática')] [['estado_vendedor','tipo']].groupby('estado_vendedor').count().sort_values('tipo',ascending=False)\n",
    "picape_automatica"
   ]
  },
  {
   "cell_type": "code",
   "execution_count": 23,
   "id": "fbf23e41",
   "metadata": {},
   "outputs": [
    {
     "name": "stderr",
     "output_type": "stream",
     "text": [
      "No artists with labels found to put in legend.  Note that artists whose label start with an underscore are ignored when legend() is called with no argument.\n"
     ]
    },
    {
     "data": {
      "image/png": "[encoded data removed]",
      "text/plain": [
       "<Figure size 1000x600 with 1 Axes>"
      ]
     },
     "metadata": {},
     "output_type": "display_data"
    }
   ],
   "source": [
    "plt.figure(figsize=(10, 6))\n",
    "sns.barplot(x= picape_automatica[0:5].reset_index()['estado_vendedor'] , y= picape_automatica[0:5].reset_index()['tipo'])\n",
    "plt.xlabel('Estados', fontsize=13)\n",
    "plt.ylabel('Número de Picapes', fontsize=13)\n",
    "plt.title('Picapes Automáticas por estado', fontsize=20)\n",
    "plt.legend(fontsize=10)\n",
    "plt.show()"
   ]
  },
  {
   "cell_type": "markdown",
   "id": "e0d0af07",
   "metadata": {},
   "source": [
    "## Como primeiro filtro selecionamos os estados que mais apresentam picapes automáticas para fazer nossa análise"
   ]
  },
  {
   "cell_type": "code",
   "execution_count": 24,
   "id": "5dc7923f",
   "metadata": {},
   "outputs": [],
   "source": [
    "picape_automatica = train[(train.tipo == 'Picape')& (train.cambio == 'Automática')] [['estado_vendedor','preco']].groupby('estado_vendedor').mean().sort_values('preco').reset_index()"
   ]
  },
  {
   "cell_type": "code",
   "execution_count": 25,
   "id": "f871ddf5",
   "metadata": {},
   "outputs": [],
   "source": [
    "lista = ['São Paulo (SP)','Paraná (PR)','Rio de Janeiro (RJ)','Santa Catarina (SC)','Minas Gerais (MG)']\n",
    "picape_automatica_ = listaFiltro(picape_automatica,'estado_vendedor' ,lista)"
   ]
  },
  {
   "cell_type": "code",
   "execution_count": 26,
   "id": "6784a038",
   "metadata": {},
   "outputs": [
    {
     "data": {
      "text/html": [
       "<div>\n",
       "<style scoped>\n",
       "    .dataframe tbody tr th:only-of-type {\n",
       "        vertical-align: middle;\n",
       "    }\n",
       "\n",
       "    .dataframe tbody tr th {\n",
       "        vertical-align: top;\n",
       "    }\n",
       "\n",
       "    .dataframe thead th {\n",
       "        text-align: right;\n",
       "    }\n",
       "</style>\n",
       "<table border=\"1\" class=\"dataframe\">\n",
       "  <thead>\n",
       "    <tr style=\"text-align: right;\">\n",
       "      <th></th>\n",
       "      <th>estado_vendedor</th>\n",
       "      <th>preco</th>\n",
       "    </tr>\n",
       "  </thead>\n",
       "  <tbody>\n",
       "    <tr>\n",
       "      <th>5</th>\n",
       "      <td>Minas Gerais (MG)</td>\n",
       "      <td>9.823477e+15</td>\n",
       "    </tr>\n",
       "    <tr>\n",
       "      <th>6</th>\n",
       "      <td>Paraná (PR)</td>\n",
       "      <td>1.029761e+16</td>\n",
       "    </tr>\n",
       "    <tr>\n",
       "      <th>9</th>\n",
       "      <td>Santa Catarina (SC)</td>\n",
       "      <td>1.056219e+16</td>\n",
       "    </tr>\n",
       "    <tr>\n",
       "      <th>10</th>\n",
       "      <td>Rio de Janeiro (RJ)</td>\n",
       "      <td>1.069470e+16</td>\n",
       "    </tr>\n",
       "    <tr>\n",
       "      <th>12</th>\n",
       "      <td>São Paulo (SP)</td>\n",
       "      <td>1.096151e+16</td>\n",
       "    </tr>\n",
       "  </tbody>\n",
       "</table>\n",
       "</div>"
      ],
      "text/plain": [
       "        estado_vendedor         preco\n",
       "5     Minas Gerais (MG)  9.823477e+15\n",
       "6           Paraná (PR)  1.029761e+16\n",
       "9   Santa Catarina (SC)  1.056219e+16\n",
       "10  Rio de Janeiro (RJ)  1.069470e+16\n",
       "12       São Paulo (SP)  1.096151e+16"
      ]
     },
     "execution_count": 26,
     "metadata": {},
     "output_type": "execute_result"
    }
   ],
   "source": [
    "picape_automatica_.sort_values('preco')"
   ]
  },
  {
   "cell_type": "code",
   "execution_count": 27,
   "id": "97ddbc69",
   "metadata": {},
   "outputs": [
    {
     "name": "stderr",
     "output_type": "stream",
     "text": [
      "No artists with labels found to put in legend.  Note that artists whose label start with an underscore are ignored when legend() is called with no argument.\n"
     ]
    },
    {
     "data": {
      "image/png": "[encoded data removed]",
      "text/plain": [
       "<Figure size 1000x600 with 1 Axes>"
      ]
     },
     "metadata": {},
     "output_type": "display_data"
    }
   ],
   "source": [
    "plt.figure(figsize=(10, 6))\n",
    "sns.barplot(data=picape_automatica_,x='estado_vendedor',y='preco')\n",
    "plt.xlabel('Estados', fontsize=13)\n",
    "plt.ylabel('Preço', fontsize=13)\n",
    "plt.title('Preço das picapes por estado', fontsize=20)\n",
    "plt.legend(fontsize=10)\n",
    "plt.show()"
   ]
  },
  {
   "cell_type": "code",
   "execution_count": 28,
   "id": "ca46018d",
   "metadata": {},
   "outputs": [
    {
     "data": {
      "text/plain": [
       "Aceita troca    21922\n",
       "Name: dono_aceita_troca, dtype: int64"
      ]
     },
     "execution_count": 28,
     "metadata": {},
     "output_type": "execute_result"
    }
   ],
   "source": [
    "train.dono_aceita_troca.value_counts()"
   ]
  },
  {
   "cell_type": "code",
   "execution_count": 29,
   "id": "4c513ad7",
   "metadata": {},
   "outputs": [],
   "source": [
    "train.dono_aceita_troca = train.dono_aceita_troca.replace('Aceita troca',1)\n",
    "train.dono_aceita_troca = train.dono_aceita_troca.fillna(0)"
   ]
  },
  {
   "cell_type": "code",
   "execution_count": 30,
   "id": "dff64766",
   "metadata": {},
   "outputs": [
    {
     "data": {
      "text/plain": [
       "IPVA pago    19659\n",
       "Name: ipva_pago, dtype: int64"
      ]
     },
     "execution_count": 30,
     "metadata": {},
     "output_type": "execute_result"
    }
   ],
   "source": [
    "train.ipva_pago.value_counts()"
   ]
  },
  {
   "cell_type": "code",
   "execution_count": 31,
   "id": "a4210dd3",
   "metadata": {},
   "outputs": [],
   "source": [
    "train.ipva_pago = train.ipva_pago.replace('IPVA pago',1)\n",
    "train.ipva_pago = train.ipva_pago.fillna(0)"
   ]
  },
  {
   "cell_type": "code",
   "execution_count": 32,
   "id": "b7166eb4",
   "metadata": {},
   "outputs": [
    {
     "data": {
      "text/html": [
       "<div>\n",
       "<style scoped>\n",
       "    .dataframe tbody tr th:only-of-type {\n",
       "        vertical-align: middle;\n",
       "    }\n",
       "\n",
       "    .dataframe tbody tr th {\n",
       "        vertical-align: top;\n",
       "    }\n",
       "\n",
       "    .dataframe thead th {\n",
       "        text-align: right;\n",
       "    }\n",
       "</style>\n",
       "<table border=\"1\" class=\"dataframe\">\n",
       "  <thead>\n",
       "    <tr style=\"text-align: right;\">\n",
       "      <th></th>\n",
       "      <th>ipva_pago</th>\n",
       "      <th>dono_aceita_troca</th>\n",
       "    </tr>\n",
       "    <tr>\n",
       "      <th>estado_vendedor</th>\n",
       "      <th></th>\n",
       "      <th></th>\n",
       "    </tr>\n",
       "  </thead>\n",
       "  <tbody>\n",
       "    <tr>\n",
       "      <th>Minas Gerais (MG)</th>\n",
       "      <td>0.611374</td>\n",
       "      <td>0.777251</td>\n",
       "    </tr>\n",
       "  </tbody>\n",
       "</table>\n",
       "</div>"
      ],
      "text/plain": [
       "                   ipva_pago  dono_aceita_troca\n",
       "estado_vendedor                                \n",
       "Minas Gerais (MG)   0.611374           0.777251"
      ]
     },
     "execution_count": 32,
     "metadata": {},
     "output_type": "execute_result"
    }
   ],
   "source": [
    "picape_minas = train[(train.estado_vendedor=='Minas Gerais (MG)')&(train.tipo=='Picape')&(train.cambio=='Automática')]\n",
    "picape_minas[['estado_vendedor','ipva_pago','dono_aceita_troca']].groupby('estado_vendedor').mean()"
   ]
  },
  {
   "cell_type": "markdown",
   "id": "20930ba6",
   "metadata": {},
   "source": [
    "## Dentre os estados com maior quantidade de picapes automáticas, entendemos que o comprador também quer pagar o menor preço possível, visto isso, identificamos Minas Gerais como o melhor estado para comprar uma picape automática, e reafirmamos os dados apontando que 61% das picapes estão com ipva pago e 77% dos donos aceitam troca, o que ajudaria na negociação"
   ]
  },
  {
   "cell_type": "markdown",
   "id": "e7bb041d",
   "metadata": {},
   "source": [
    "## **"
   ]
  },
  {
   "cell_type": "markdown",
   "id": "f517f60d",
   "metadata": {},
   "source": [
    "# Qual o melhor estado para se comprar carros que ainda estejam dentro da garantia de fábrica e por quê?"
   ]
  },
  {
   "cell_type": "code",
   "execution_count": 33,
   "id": "7ec1cb22",
   "metadata": {},
   "outputs": [],
   "source": [
    "garantia_de_fabrica = train"
   ]
  },
  {
   "cell_type": "code",
   "execution_count": 34,
   "id": "5eb377f4",
   "metadata": {},
   "outputs": [
    {
     "data": {
      "text/html": [
       "<div>\n",
       "<style scoped>\n",
       "    .dataframe tbody tr th:only-of-type {\n",
       "        vertical-align: middle;\n",
       "    }\n",
       "\n",
       "    .dataframe tbody tr th {\n",
       "        vertical-align: top;\n",
       "    }\n",
       "\n",
       "    .dataframe thead th {\n",
       "        text-align: right;\n",
       "    }\n",
       "</style>\n",
       "<table border=\"1\" class=\"dataframe\">\n",
       "  <thead>\n",
       "    <tr style=\"text-align: right;\">\n",
       "      <th></th>\n",
       "      <th>estado_vendedor</th>\n",
       "      <th>garantia_de_fábrica</th>\n",
       "      <th>preco</th>\n",
       "    </tr>\n",
       "  </thead>\n",
       "  <tbody>\n",
       "    <tr>\n",
       "      <th>0</th>\n",
       "      <td>São Paulo (SP)</td>\n",
       "      <td>2307.0</td>\n",
       "      <td>1.640546e+20</td>\n",
       "    </tr>\n",
       "    <tr>\n",
       "      <th>1</th>\n",
       "      <td>Rio de Janeiro (RJ)</td>\n",
       "      <td>412.0</td>\n",
       "      <td>2.503207e+19</td>\n",
       "    </tr>\n",
       "    <tr>\n",
       "      <th>2</th>\n",
       "      <td>Paraná (PR)</td>\n",
       "      <td>389.0</td>\n",
       "      <td>2.624164e+19</td>\n",
       "    </tr>\n",
       "    <tr>\n",
       "      <th>3</th>\n",
       "      <td>Santa Catarina (SC)</td>\n",
       "      <td>330.0</td>\n",
       "      <td>2.287032e+19</td>\n",
       "    </tr>\n",
       "    <tr>\n",
       "      <th>4</th>\n",
       "      <td>Rio Grande do Sul (RS)</td>\n",
       "      <td>281.0</td>\n",
       "      <td>1.714449e+19</td>\n",
       "    </tr>\n",
       "  </tbody>\n",
       "</table>\n",
       "</div>"
      ],
      "text/plain": [
       "          estado_vendedor  garantia_de_fábrica         preco\n",
       "0          São Paulo (SP)               2307.0  1.640546e+20\n",
       "1     Rio de Janeiro (RJ)                412.0  2.503207e+19\n",
       "2             Paraná (PR)                389.0  2.624164e+19\n",
       "3     Santa Catarina (SC)                330.0  2.287032e+19\n",
       "4  Rio Grande do Sul (RS)                281.0  1.714449e+19"
      ]
     },
     "execution_count": 34,
     "metadata": {},
     "output_type": "execute_result"
    }
   ],
   "source": [
    "garantia_estado = garantia_de_fabrica[['estado_vendedor','garantia_de_fábrica','preco','revisoes_dentro_agenda']].groupby('estado_vendedor').sum().sort_values('garantia_de_fábrica',ascending=False)[0:5].reset_index()\n",
    "garantia_estado"
   ]
  },
  {
   "cell_type": "code",
   "execution_count": 35,
   "id": "13e210ec",
   "metadata": {},
   "outputs": [
    {
     "name": "stderr",
     "output_type": "stream",
     "text": [
      "No artists with labels found to put in legend.  Note that artists whose label start with an underscore are ignored when legend() is called with no argument.\n"
     ]
    },
    {
     "data": {
      "image/png": "[encoded data removed]",
      "text/plain": [
       "<Figure size 1000x600 with 1 Axes>"
      ]
     },
     "metadata": {},
     "output_type": "display_data"
    }
   ],
   "source": [
    "plt.figure(figsize=(10, 6))\n",
    "sns.barplot(data=garantia_estado,x='estado_vendedor',y='garantia_de_fábrica')\n",
    "plt.xlabel('Estados', fontsize=13)\n",
    "plt.ylabel('Número de carros com garantia', fontsize=13)\n",
    "plt.title('Estados com maior número de carros com garantia de fábrica', fontsize=15)\n",
    "plt.legend(fontsize=10)\n",
    "plt.show()"
   ]
  },
  {
   "cell_type": "code",
   "execution_count": 36,
   "id": "bff65da9",
   "metadata": {},
   "outputs": [
    {
     "data": {
      "text/plain": [
       "'Todas as revisões feitas pela agenda do carro'"
      ]
     },
     "execution_count": 36,
     "metadata": {},
     "output_type": "execute_result"
    }
   ],
   "source": [
    "train.revisoes_dentro_agenda.value_counts().index[0]"
   ]
  },
  {
   "cell_type": "code",
   "execution_count": 37,
   "id": "8d90445c",
   "metadata": {},
   "outputs": [],
   "source": [
    "train.revisoes_dentro_agenda = train.revisoes_dentro_agenda.replace(train.revisoes_dentro_agenda.value_counts().index[0],1)\n",
    "train.revisoes_dentro_agenda = train.revisoes_dentro_agenda.fillna(0)"
   ]
  },
  {
   "cell_type": "code",
   "execution_count": 38,
   "id": "4fc6a31a",
   "metadata": {},
   "outputs": [
    {
     "data": {
      "text/plain": [
       "0.0    23674\n",
       "1.0     5910\n",
       "Name: revisoes_dentro_agenda, dtype: int64"
      ]
     },
     "execution_count": 38,
     "metadata": {},
     "output_type": "execute_result"
    }
   ],
   "source": [
    "train.revisoes_dentro_agenda.value_counts()"
   ]
  },
  {
   "cell_type": "code",
   "execution_count": 39,
   "id": "cc4252ee",
   "metadata": {},
   "outputs": [
    {
     "data": {
      "text/html": [
       "<div>\n",
       "<style scoped>\n",
       "    .dataframe tbody tr th:only-of-type {\n",
       "        vertical-align: middle;\n",
       "    }\n",
       "\n",
       "    .dataframe tbody tr th {\n",
       "        vertical-align: top;\n",
       "    }\n",
       "\n",
       "    .dataframe thead th {\n",
       "        text-align: right;\n",
       "    }\n",
       "</style>\n",
       "<table border=\"1\" class=\"dataframe\">\n",
       "  <thead>\n",
       "    <tr style=\"text-align: right;\">\n",
       "      <th></th>\n",
       "      <th>estado_vendedor</th>\n",
       "      <th>garantia_de_fábrica</th>\n",
       "      <th>revisoes_dentro_agenda</th>\n",
       "      <th>preco</th>\n",
       "    </tr>\n",
       "  </thead>\n",
       "  <tbody>\n",
       "    <tr>\n",
       "      <th>0</th>\n",
       "      <td>São Paulo (SP)</td>\n",
       "      <td>1292</td>\n",
       "      <td>1292</td>\n",
       "      <td>1292</td>\n",
       "    </tr>\n",
       "    <tr>\n",
       "      <th>1</th>\n",
       "      <td>Paraná (PR)</td>\n",
       "      <td>201</td>\n",
       "      <td>201</td>\n",
       "      <td>201</td>\n",
       "    </tr>\n",
       "    <tr>\n",
       "      <th>2</th>\n",
       "      <td>Rio de Janeiro (RJ)</td>\n",
       "      <td>198</td>\n",
       "      <td>198</td>\n",
       "      <td>198</td>\n",
       "    </tr>\n",
       "    <tr>\n",
       "      <th>3</th>\n",
       "      <td>Santa Catarina (SC)</td>\n",
       "      <td>191</td>\n",
       "      <td>191</td>\n",
       "      <td>191</td>\n",
       "    </tr>\n",
       "    <tr>\n",
       "      <th>4</th>\n",
       "      <td>Rio Grande do Sul (RS)</td>\n",
       "      <td>160</td>\n",
       "      <td>160</td>\n",
       "      <td>160</td>\n",
       "    </tr>\n",
       "  </tbody>\n",
       "</table>\n",
       "</div>"
      ],
      "text/plain": [
       "          estado_vendedor  garantia_de_fábrica  revisoes_dentro_agenda  preco\n",
       "0          São Paulo (SP)                 1292                    1292   1292\n",
       "1             Paraná (PR)                  201                     201    201\n",
       "2     Rio de Janeiro (RJ)                  198                     198    198\n",
       "3     Santa Catarina (SC)                  191                     191    191\n",
       "4  Rio Grande do Sul (RS)                  160                     160    160"
      ]
     },
     "execution_count": 39,
     "metadata": {},
     "output_type": "execute_result"
    }
   ],
   "source": [
    "train[(train.garantia_de_fábrica==1)&(train.revisoes_dentro_agenda==1)][['estado_vendedor','garantia_de_fábrica','revisoes_dentro_agenda','preco']].groupby('estado_vendedor').count().sort_values('garantia_de_fábrica',ascending=False)[0:5].reset_index()"
   ]
  },
  {
   "cell_type": "code",
   "execution_count": 40,
   "id": "aa806d94",
   "metadata": {},
   "outputs": [],
   "source": [
    "lista = ['São Paulo (SP)','Paraná (PR)','Rio de Janeiro (RJ)','Santa Catarina (SC)','Rio Grande do Sul (RS)']\n",
    "garantia_revisao = listaFiltro(train,'estado_vendedor' ,lista)"
   ]
  },
  {
   "cell_type": "code",
   "execution_count": 41,
   "id": "dc404f1a",
   "metadata": {},
   "outputs": [
    {
     "data": {
      "text/html": [
       "<div>\n",
       "<style scoped>\n",
       "    .dataframe tbody tr th:only-of-type {\n",
       "        vertical-align: middle;\n",
       "    }\n",
       "\n",
       "    .dataframe tbody tr th {\n",
       "        vertical-align: top;\n",
       "    }\n",
       "\n",
       "    .dataframe thead th {\n",
       "        text-align: right;\n",
       "    }\n",
       "</style>\n",
       "<table border=\"1\" class=\"dataframe\">\n",
       "  <thead>\n",
       "    <tr style=\"text-align: right;\">\n",
       "      <th></th>\n",
       "      <th>estado_vendedor</th>\n",
       "      <th>preco</th>\n",
       "    </tr>\n",
       "  </thead>\n",
       "  <tbody>\n",
       "    <tr>\n",
       "      <th>0</th>\n",
       "      <td>Santa Catarina (SC)</td>\n",
       "      <td>1.136324e+16</td>\n",
       "    </tr>\n",
       "    <tr>\n",
       "      <th>1</th>\n",
       "      <td>Rio Grande do Sul (RS)</td>\n",
       "      <td>1.100160e+16</td>\n",
       "    </tr>\n",
       "    <tr>\n",
       "      <th>2</th>\n",
       "      <td>Paraná (PR)</td>\n",
       "      <td>1.093814e+16</td>\n",
       "    </tr>\n",
       "    <tr>\n",
       "      <th>3</th>\n",
       "      <td>Rio de Janeiro (RJ)</td>\n",
       "      <td>1.072757e+16</td>\n",
       "    </tr>\n",
       "    <tr>\n",
       "      <th>4</th>\n",
       "      <td>São Paulo (SP)</td>\n",
       "      <td>9.900599e+15</td>\n",
       "    </tr>\n",
       "  </tbody>\n",
       "</table>\n",
       "</div>"
      ],
      "text/plain": [
       "          estado_vendedor         preco\n",
       "0     Santa Catarina (SC)  1.136324e+16\n",
       "1  Rio Grande do Sul (RS)  1.100160e+16\n",
       "2             Paraná (PR)  1.093814e+16\n",
       "3     Rio de Janeiro (RJ)  1.072757e+16\n",
       "4          São Paulo (SP)  9.900599e+15"
      ]
     },
     "execution_count": 41,
     "metadata": {},
     "output_type": "execute_result"
    }
   ],
   "source": [
    "estado_preco = garantia_revisao[(garantia_revisao.garantia_de_fábrica==1)&(garantia_revisao.revisoes_dentro_agenda==1)][['estado_vendedor','preco']].groupby('estado_vendedor').mean().sort_values('preco',ascending=False).reset_index()\n",
    "estado_preco"
   ]
  },
  {
   "cell_type": "code",
   "execution_count": 42,
   "id": "640053b6",
   "metadata": {},
   "outputs": [
    {
     "name": "stderr",
     "output_type": "stream",
     "text": [
      "No artists with labels found to put in legend.  Note that artists whose label start with an underscore are ignored when legend() is called with no argument.\n"
     ]
    },
    {
     "data": {
      "image/png": "[encoded data removed]",
      "text/plain": [
       "<Figure size 1000x600 with 1 Axes>"
      ]
     },
     "metadata": {},
     "output_type": "display_data"
    }
   ],
   "source": [
    "plt.figure(figsize=(10, 6))\n",
    "sns.barplot(data=estado_preco,x='estado_vendedor',y='preco')\n",
    "plt.xlabel('Estados', fontsize=10)\n",
    "plt.ylabel('Média de Preço', fontsize=10)\n",
    "plt.title('Média de preços nos estados que mais contém veículos com garantia de fábrica', fontsize=10)\n",
    "plt.legend(fontsize=10)\n",
    "plt.show()"
   ]
  },
  {
   "cell_type": "markdown",
   "id": "5a9e14d3",
   "metadata": {},
   "source": [
    "## Levando em conta que ao comprar um carro querendo garantia de fábrica as revisões precisam estar em dia, visto isso selecionamos os 5 estados que mais atendem esse requisito, dando destaque para SP, que contém muito mais carros nesse aspecto que os demais, mais do que 6x a quantia dos demais, sendo assim ao observar a média de preços e constar que o comprador quer optar pelo menor preço nessas condições já atendidas definimos SP como nosso ganhador"
   ]
  },
  {
   "cell_type": "markdown",
   "id": "09fc2fd9",
   "metadata": {},
   "source": [
    "## Agora iremos tratar os dados na base de treino para fazer a previsão dos preços"
   ]
  },
  {
   "cell_type": "code",
   "execution_count": 43,
   "id": "c83fd34d",
   "metadata": {},
   "outputs": [],
   "source": [
    "train_ = train.drop(['modelo','versao','cidade_vendedor'],axis=1)"
   ]
  },
  {
   "cell_type": "code",
   "execution_count": 44,
   "id": "96118b35",
   "metadata": {
    "scrolled": true
   },
   "outputs": [
    {
     "name": "stdout",
     "output_type": "stream",
     "text": [
      "<class 'pandas.core.frame.DataFrame'>\n",
      "RangeIndex: 29584 entries, 0 to 29583\n",
      "Data columns (total 26 columns):\n",
      " #   Column                   Non-Null Count  Dtype  \n",
      "---  ------                   --------------  -----  \n",
      " 0   id                       29584 non-null  object \n",
      " 1   num_fotos                29407 non-null  float64\n",
      " 2   marca_popular            29584 non-null  object \n",
      " 3   ano_de_fabricacao        29584 non-null  int64  \n",
      " 4   ano_modelo               29584 non-null  float64\n",
      " 5   hodometro                29584 non-null  float64\n",
      " 6   cambio                   29584 non-null  object \n",
      " 7   num_portas               29584 non-null  int64  \n",
      " 8   tipo                     29584 non-null  object \n",
      " 9   blindado                 29584 non-null  object \n",
      " 10  cor                      29584 non-null  object \n",
      " 11  tipo_vendedor            29584 non-null  object \n",
      " 12  estado_vendedor          29584 non-null  object \n",
      " 13  anunciante               29584 non-null  object \n",
      " 14  entrega_delivery         29584 non-null  bool   \n",
      " 15  troca                    29584 non-null  bool   \n",
      " 16  elegivel_revisao         29584 non-null  bool   \n",
      " 17  dono_aceita_troca        29584 non-null  float64\n",
      " 18  veiculo_único_dono       10423 non-null  object \n",
      " 19  revisoes_concessionaria  9172 non-null   object \n",
      " 20  ipva_pago                29584 non-null  float64\n",
      " 21  veiculo_licenciado       15906 non-null  object \n",
      " 22  garantia_de_fábrica      29584 non-null  float64\n",
      " 23  revisoes_dentro_agenda   29584 non-null  float64\n",
      " 24  veiculo_alienado         0 non-null      float64\n",
      " 25  preco                    29584 non-null  float64\n",
      "dtypes: bool(3), float64(9), int64(2), object(12)\n",
      "memory usage: 5.3+ MB\n"
     ]
    }
   ],
   "source": [
    "train_.info()"
   ]
  },
  {
   "cell_type": "code",
   "execution_count": 45,
   "id": "797ebdb6",
   "metadata": {},
   "outputs": [],
   "source": [
    "train_ = train_.drop('veiculo_alienado',axis=1)"
   ]
  },
  {
   "cell_type": "code",
   "execution_count": 46,
   "id": "7d7e27cd",
   "metadata": {},
   "outputs": [
    {
     "data": {
      "text/plain": [
       "N    29336\n",
       "S      248\n",
       "Name: blindado, dtype: int64"
      ]
     },
     "execution_count": 46,
     "metadata": {},
     "output_type": "execute_result"
    }
   ],
   "source": [
    "train_.blindado.value_counts()"
   ]
  },
  {
   "cell_type": "code",
   "execution_count": 47,
   "id": "7166f81c",
   "metadata": {},
   "outputs": [
    {
     "name": "stderr",
     "output_type": "stream",
     "text": [
      "No artists with labels found to put in legend.  Note that artists whose label start with an underscore are ignored when legend() is called with no argument.\n"
     ]
    },
    {
     "data": {
      "image/png": "[encoded data removed]",
      "text/plain": [
       "<Figure size 640x480 with 1 Axes>"
      ]
     },
     "metadata": {},
     "output_type": "display_data"
    }
   ],
   "source": [
    "sns.barplot(data=train_,x='blindado',y='preco')\n",
    "plt.xlabel('blindado', fontsize=10)\n",
    "plt.ylabel('Média de Preço', fontsize=10)\n",
    "plt.title('Média de preço dos carros não blindados x blindados', fontsize=10)\n",
    "plt.legend(fontsize=10)\n",
    "plt.show()"
   ]
  },
  {
   "cell_type": "code",
   "execution_count": 48,
   "id": "dc930934",
   "metadata": {},
   "outputs": [
    {
     "data": {
      "text/plain": [
       "0    29336\n",
       "1      248\n",
       "Name: blindado, dtype: int64"
      ]
     },
     "execution_count": 48,
     "metadata": {},
     "output_type": "execute_result"
    }
   ],
   "source": [
    "train.blindado = train.blindado.replace('N',0)\n",
    "train.blindado = train.blindado.replace('S',1)\n",
    "train.blindado.value_counts()"
   ]
  },
  {
   "cell_type": "code",
   "execution_count": 49,
   "id": "2f7c8927",
   "metadata": {},
   "outputs": [
    {
     "data": {
      "text/html": [
       "<div>\n",
       "<style scoped>\n",
       "    .dataframe tbody tr th:only-of-type {\n",
       "        vertical-align: middle;\n",
       "    }\n",
       "\n",
       "    .dataframe tbody tr th {\n",
       "        vertical-align: top;\n",
       "    }\n",
       "\n",
       "    .dataframe thead th {\n",
       "        text-align: right;\n",
       "    }\n",
       "</style>\n",
       "<table border=\"1\" class=\"dataframe\">\n",
       "  <thead>\n",
       "    <tr style=\"text-align: right;\">\n",
       "      <th></th>\n",
       "      <th>count</th>\n",
       "      <th>mean</th>\n",
       "      <th>std</th>\n",
       "      <th>min</th>\n",
       "      <th>25%</th>\n",
       "      <th>50%</th>\n",
       "      <th>75%</th>\n",
       "      <th>max</th>\n",
       "    </tr>\n",
       "  </thead>\n",
       "  <tbody>\n",
       "    <tr>\n",
       "      <th>num_fotos</th>\n",
       "      <td>29407.0</td>\n",
       "      <td>1.032383e+01</td>\n",
       "      <td>3.487334e+00</td>\n",
       "      <td>8.000000e+00</td>\n",
       "      <td>8.000000e+00</td>\n",
       "      <td>8.000000e+00</td>\n",
       "      <td>1.400000e+01</td>\n",
       "      <td>2.100000e+01</td>\n",
       "    </tr>\n",
       "    <tr>\n",
       "      <th>ano_de_fabricacao</th>\n",
       "      <td>29584.0</td>\n",
       "      <td>2.016759e+03</td>\n",
       "      <td>4.062422e+00</td>\n",
       "      <td>1.985000e+03</td>\n",
       "      <td>2.015000e+03</td>\n",
       "      <td>2.018000e+03</td>\n",
       "      <td>2.019000e+03</td>\n",
       "      <td>2.022000e+03</td>\n",
       "    </tr>\n",
       "    <tr>\n",
       "      <th>ano_modelo</th>\n",
       "      <td>29584.0</td>\n",
       "      <td>2.017809e+03</td>\n",
       "      <td>2.673930e+00</td>\n",
       "      <td>1.997000e+03</td>\n",
       "      <td>2.016000e+03</td>\n",
       "      <td>2.018000e+03</td>\n",
       "      <td>2.020000e+03</td>\n",
       "      <td>2.023000e+03</td>\n",
       "    </tr>\n",
       "    <tr>\n",
       "      <th>hodometro</th>\n",
       "      <td>29584.0</td>\n",
       "      <td>5.843059e+04</td>\n",
       "      <td>3.256177e+04</td>\n",
       "      <td>1.000000e+02</td>\n",
       "      <td>3.121400e+04</td>\n",
       "      <td>5.743400e+04</td>\n",
       "      <td>8.195350e+04</td>\n",
       "      <td>3.900650e+05</td>\n",
       "    </tr>\n",
       "    <tr>\n",
       "      <th>num_portas</th>\n",
       "      <td>29584.0</td>\n",
       "      <td>3.940677e+00</td>\n",
       "      <td>3.383603e-01</td>\n",
       "      <td>2.000000e+00</td>\n",
       "      <td>4.000000e+00</td>\n",
       "      <td>4.000000e+00</td>\n",
       "      <td>4.000000e+00</td>\n",
       "      <td>4.000000e+00</td>\n",
       "    </tr>\n",
       "    <tr>\n",
       "      <th>dono_aceita_troca</th>\n",
       "      <td>29584.0</td>\n",
       "      <td>7.410087e-01</td>\n",
       "      <td>4.380883e-01</td>\n",
       "      <td>0.000000e+00</td>\n",
       "      <td>0.000000e+00</td>\n",
       "      <td>1.000000e+00</td>\n",
       "      <td>1.000000e+00</td>\n",
       "      <td>1.000000e+00</td>\n",
       "    </tr>\n",
       "    <tr>\n",
       "      <th>ipva_pago</th>\n",
       "      <td>29584.0</td>\n",
       "      <td>6.645146e-01</td>\n",
       "      <td>4.721679e-01</td>\n",
       "      <td>0.000000e+00</td>\n",
       "      <td>0.000000e+00</td>\n",
       "      <td>1.000000e+00</td>\n",
       "      <td>1.000000e+00</td>\n",
       "      <td>1.000000e+00</td>\n",
       "    </tr>\n",
       "    <tr>\n",
       "      <th>garantia_de_fábrica</th>\n",
       "      <td>29584.0</td>\n",
       "      <td>1.475460e-01</td>\n",
       "      <td>3.546553e-01</td>\n",
       "      <td>0.000000e+00</td>\n",
       "      <td>0.000000e+00</td>\n",
       "      <td>0.000000e+00</td>\n",
       "      <td>0.000000e+00</td>\n",
       "      <td>1.000000e+00</td>\n",
       "    </tr>\n",
       "    <tr>\n",
       "      <th>revisoes_dentro_agenda</th>\n",
       "      <td>29584.0</td>\n",
       "      <td>1.997701e-01</td>\n",
       "      <td>3.998343e-01</td>\n",
       "      <td>0.000000e+00</td>\n",
       "      <td>0.000000e+00</td>\n",
       "      <td>0.000000e+00</td>\n",
       "      <td>0.000000e+00</td>\n",
       "      <td>1.000000e+00</td>\n",
       "    </tr>\n",
       "    <tr>\n",
       "      <th>preco</th>\n",
       "      <td>29584.0</td>\n",
       "      <td>1.002299e+16</td>\n",
       "      <td>9.547504e+15</td>\n",
       "      <td>2.006292e+10</td>\n",
       "      <td>3.196583e+15</td>\n",
       "      <td>8.244891e+15</td>\n",
       "      <td>1.342533e+16</td>\n",
       "      <td>6.549912e+16</td>\n",
       "    </tr>\n",
       "  </tbody>\n",
       "</table>\n",
       "</div>"
      ],
      "text/plain": [
       "                          count          mean           std           min  \\\n",
       "num_fotos               29407.0  1.032383e+01  3.487334e+00  8.000000e+00   \n",
       "ano_de_fabricacao       29584.0  2.016759e+03  4.062422e+00  1.985000e+03   \n",
       "ano_modelo              29584.0  2.017809e+03  2.673930e+00  1.997000e+03   \n",
       "hodometro               29584.0  5.843059e+04  3.256177e+04  1.000000e+02   \n",
       "num_portas              29584.0  3.940677e+00  3.383603e-01  2.000000e+00   \n",
       "dono_aceita_troca       29584.0  7.410087e-01  4.380883e-01  0.000000e+00   \n",
       "ipva_pago               29584.0  6.645146e-01  4.721679e-01  0.000000e+00   \n",
       "garantia_de_fábrica     29584.0  1.475460e-01  3.546553e-01  0.000000e+00   \n",
       "revisoes_dentro_agenda  29584.0  1.997701e-01  3.998343e-01  0.000000e+00   \n",
       "preco                   29584.0  1.002299e+16  9.547504e+15  2.006292e+10   \n",
       "\n",
       "                                 25%           50%           75%           max  \n",
       "num_fotos               8.000000e+00  8.000000e+00  1.400000e+01  2.100000e+01  \n",
       "ano_de_fabricacao       2.015000e+03  2.018000e+03  2.019000e+03  2.022000e+03  \n",
       "ano_modelo              2.016000e+03  2.018000e+03  2.020000e+03  2.023000e+03  \n",
       "hodometro               3.121400e+04  5.743400e+04  8.195350e+04  3.900650e+05  \n",
       "num_portas              4.000000e+00  4.000000e+00  4.000000e+00  4.000000e+00  \n",
       "dono_aceita_troca       0.000000e+00  1.000000e+00  1.000000e+00  1.000000e+00  \n",
       "ipva_pago               0.000000e+00  1.000000e+00  1.000000e+00  1.000000e+00  \n",
       "garantia_de_fábrica     0.000000e+00  0.000000e+00  0.000000e+00  1.000000e+00  \n",
       "revisoes_dentro_agenda  0.000000e+00  0.000000e+00  0.000000e+00  1.000000e+00  \n",
       "preco                   3.196583e+15  8.244891e+15  1.342533e+16  6.549912e+16  "
      ]
     },
     "execution_count": 49,
     "metadata": {},
     "output_type": "execute_result"
    }
   ],
   "source": [
    "train_.describe().transpose()"
   ]
  },
  {
   "cell_type": "code",
   "execution_count": 50,
   "id": "1cbfc602",
   "metadata": {},
   "outputs": [
    {
     "data": {
      "text/plain": [
       "Único dono    10423\n",
       "Name: veiculo_único_dono, dtype: int64"
      ]
     },
     "execution_count": 50,
     "metadata": {},
     "output_type": "execute_result"
    }
   ],
   "source": [
    "train_.veiculo_único_dono.value_counts()"
   ]
  },
  {
   "cell_type": "code",
   "execution_count": 51,
   "id": "4b905605",
   "metadata": {},
   "outputs": [],
   "source": [
    "train_.veiculo_único_dono = train_.veiculo_único_dono.replace(train.veiculo_único_dono.value_counts().index[0],1)\n",
    "train_.veiculo_único_dono = train_.veiculo_único_dono.fillna(0)"
   ]
  },
  {
   "cell_type": "code",
   "execution_count": 52,
   "id": "2117f8ed",
   "metadata": {},
   "outputs": [
    {
     "data": {
      "text/plain": [
       "29584"
      ]
     },
     "execution_count": 52,
     "metadata": {},
     "output_type": "execute_result"
    }
   ],
   "source": [
    "train_.veiculo_único_dono.value_counts().sum()"
   ]
  },
  {
   "cell_type": "code",
   "execution_count": 53,
   "id": "0861cdaf",
   "metadata": {},
   "outputs": [],
   "source": [
    "train_.marca_popular = train_.marca_popular.astype(int)"
   ]
  },
  {
   "cell_type": "code",
   "execution_count": 54,
   "id": "1645964a",
   "metadata": {},
   "outputs": [
    {
     "data": {
      "text/plain": [
       "N    29336\n",
       "S      248\n",
       "Name: blindado, dtype: int64"
      ]
     },
     "execution_count": 54,
     "metadata": {},
     "output_type": "execute_result"
    }
   ],
   "source": [
    "train_.blindado.value_counts()"
   ]
  },
  {
   "cell_type": "code",
   "execution_count": 55,
   "id": "16fd2757",
   "metadata": {},
   "outputs": [
    {
     "data": {
      "text/plain": [
       "0    29336\n",
       "1      248\n",
       "Name: blindado, dtype: int64"
      ]
     },
     "execution_count": 55,
     "metadata": {},
     "output_type": "execute_result"
    }
   ],
   "source": [
    "train_.blindado = train_.blindado.replace('N',0)\n",
    "train_.blindado = train_.blindado.replace('S',1)\n",
    "train_.blindado.value_counts()"
   ]
  },
  {
   "cell_type": "code",
   "execution_count": 56,
   "id": "9ad81ed2",
   "metadata": {},
   "outputs": [
    {
     "data": {
      "text/plain": [
       "Todas as revisões feitas pela concessionária    9172\n",
       "Name: revisoes_concessionaria, dtype: int64"
      ]
     },
     "execution_count": 56,
     "metadata": {},
     "output_type": "execute_result"
    }
   ],
   "source": [
    "train_.revisoes_concessionaria.value_counts()"
   ]
  },
  {
   "cell_type": "code",
   "execution_count": 57,
   "id": "c91fee0d",
   "metadata": {},
   "outputs": [
    {
     "data": {
      "text/plain": [
       "0.0    20412\n",
       "1.0     9172\n",
       "Name: revisoes_concessionaria, dtype: int64"
      ]
     },
     "execution_count": 57,
     "metadata": {},
     "output_type": "execute_result"
    }
   ],
   "source": [
    "train_.revisoes_concessionaria = train_.revisoes_concessionaria.replace('Todas as revisões feitas pela concessionária',1)\n",
    "train_.revisoes_concessionaria = train_.revisoes_concessionaria.fillna(0)\n",
    "train_.revisoes_concessionaria.value_counts()"
   ]
  },
  {
   "cell_type": "code",
   "execution_count": 58,
   "id": "fbcad13e",
   "metadata": {},
   "outputs": [
    {
     "data": {
      "text/plain": [
       "Licenciado    15906\n",
       "Name: veiculo_licenciado, dtype: int64"
      ]
     },
     "execution_count": 58,
     "metadata": {},
     "output_type": "execute_result"
    }
   ],
   "source": [
    "train_.veiculo_licenciado.value_counts()"
   ]
  },
  {
   "cell_type": "code",
   "execution_count": 59,
   "id": "cc798222",
   "metadata": {},
   "outputs": [
    {
     "data": {
      "text/plain": [
       "1.0    15906\n",
       "0.0    13678\n",
       "Name: veiculo_licenciado, dtype: int64"
      ]
     },
     "execution_count": 59,
     "metadata": {},
     "output_type": "execute_result"
    }
   ],
   "source": [
    "train_.veiculo_licenciado = train_.veiculo_licenciado.replace('Licenciado',1)\n",
    "train_.veiculo_licenciado = train_.veiculo_licenciado.fillna(0)\n",
    "train_.veiculo_licenciado.value_counts()"
   ]
  },
  {
   "cell_type": "code",
   "execution_count": 60,
   "id": "3fd28e27",
   "metadata": {},
   "outputs": [],
   "source": [
    "train_.num_fotos = train_.num_fotos.fillna(train_.num_fotos.value_counts().index[0])"
   ]
  },
  {
   "cell_type": "code",
   "execution_count": 61,
   "id": "c20d76ce",
   "metadata": {
    "scrolled": true
   },
   "outputs": [
    {
     "name": "stdout",
     "output_type": "stream",
     "text": [
      "<class 'pandas.core.frame.DataFrame'>\n",
      "RangeIndex: 29584 entries, 0 to 29583\n",
      "Data columns (total 25 columns):\n",
      " #   Column                   Non-Null Count  Dtype  \n",
      "---  ------                   --------------  -----  \n",
      " 0   id                       29584 non-null  object \n",
      " 1   num_fotos                29584 non-null  float64\n",
      " 2   marca_popular            29584 non-null  int32  \n",
      " 3   ano_de_fabricacao        29584 non-null  int64  \n",
      " 4   ano_modelo               29584 non-null  float64\n",
      " 5   hodometro                29584 non-null  float64\n",
      " 6   cambio                   29584 non-null  object \n",
      " 7   num_portas               29584 non-null  int64  \n",
      " 8   tipo                     29584 non-null  object \n",
      " 9   blindado                 29584 non-null  int64  \n",
      " 10  cor                      29584 non-null  object \n",
      " 11  tipo_vendedor            29584 non-null  object \n",
      " 12  estado_vendedor          29584 non-null  object \n",
      " 13  anunciante               29584 non-null  object \n",
      " 14  entrega_delivery         29584 non-null  bool   \n",
      " 15  troca                    29584 non-null  bool   \n",
      " 16  elegivel_revisao         29584 non-null  bool   \n",
      " 17  dono_aceita_troca        29584 non-null  float64\n",
      " 18  veiculo_único_dono       29584 non-null  float64\n",
      " 19  revisoes_concessionaria  29584 non-null  float64\n",
      " 20  ipva_pago                29584 non-null  float64\n",
      " 21  veiculo_licenciado       29584 non-null  float64\n",
      " 22  garantia_de_fábrica      29584 non-null  float64\n",
      " 23  revisoes_dentro_agenda   29584 non-null  float64\n",
      " 24  preco                    29584 non-null  float64\n",
      "dtypes: bool(3), float64(11), int32(1), int64(3), object(7)\n",
      "memory usage: 4.9+ MB\n"
     ]
    }
   ],
   "source": [
    "train_.info()"
   ]
  },
  {
   "cell_type": "code",
   "execution_count": 62,
   "id": "e5f0591b",
   "metadata": {},
   "outputs": [],
   "source": [
    "train_.entrega_delivery=train_.entrega_delivery.astype(int)"
   ]
  },
  {
   "cell_type": "code",
   "execution_count": 63,
   "id": "b02fc06a",
   "metadata": {},
   "outputs": [],
   "source": [
    "train_.troca = train_.troca.astype(int)"
   ]
  },
  {
   "cell_type": "code",
   "execution_count": 64,
   "id": "6728e981",
   "metadata": {},
   "outputs": [],
   "source": [
    "train_.elegivel_revisao = train_.elegivel_revisao.astype(int)"
   ]
  },
  {
   "cell_type": "code",
   "execution_count": 65,
   "id": "52f40831",
   "metadata": {},
   "outputs": [
    {
     "name": "stdout",
     "output_type": "stream",
     "text": [
      "<class 'pandas.core.frame.DataFrame'>\n",
      "RangeIndex: 29584 entries, 0 to 29583\n",
      "Data columns (total 25 columns):\n",
      " #   Column                   Non-Null Count  Dtype  \n",
      "---  ------                   --------------  -----  \n",
      " 0   id                       29584 non-null  object \n",
      " 1   num_fotos                29584 non-null  float64\n",
      " 2   marca_popular            29584 non-null  int32  \n",
      " 3   ano_de_fabricacao        29584 non-null  int64  \n",
      " 4   ano_modelo               29584 non-null  float64\n",
      " 5   hodometro                29584 non-null  float64\n",
      " 6   cambio                   29584 non-null  object \n",
      " 7   num_portas               29584 non-null  int64  \n",
      " 8   tipo                     29584 non-null  object \n",
      " 9   blindado                 29584 non-null  int64  \n",
      " 10  cor                      29584 non-null  object \n",
      " 11  tipo_vendedor            29584 non-null  object \n",
      " 12  estado_vendedor          29584 non-null  object \n",
      " 13  anunciante               29584 non-null  object \n",
      " 14  entrega_delivery         29584 non-null  int32  \n",
      " 15  troca                    29584 non-null  int32  \n",
      " 16  elegivel_revisao         29584 non-null  int32  \n",
      " 17  dono_aceita_troca        29584 non-null  float64\n",
      " 18  veiculo_único_dono       29584 non-null  float64\n",
      " 19  revisoes_concessionaria  29584 non-null  float64\n",
      " 20  ipva_pago                29584 non-null  float64\n",
      " 21  veiculo_licenciado       29584 non-null  float64\n",
      " 22  garantia_de_fábrica      29584 non-null  float64\n",
      " 23  revisoes_dentro_agenda   29584 non-null  float64\n",
      " 24  preco                    29584 non-null  float64\n",
      "dtypes: float64(11), int32(4), int64(3), object(7)\n",
      "memory usage: 5.2+ MB\n"
     ]
    }
   ],
   "source": [
    "train_.info()"
   ]
  },
  {
   "cell_type": "code",
   "execution_count": 66,
   "id": "6325804b",
   "metadata": {},
   "outputs": [],
   "source": [
    "reg = smf.ols('preco ~ marca_popular+tipo+hodometro+veiculo_único_dono',train_).fit()"
   ]
  },
  {
   "cell_type": "code",
   "execution_count": 67,
   "id": "0bf9f639",
   "metadata": {
    "scrolled": false
   },
   "outputs": [
    {
     "data": {
      "text/html": [
       "<table class=\"simpletable\">\n",
       "<caption>OLS Regression Results</caption>\n",
       "<tr>\n",
       "  <th>Dep. Variable:</th>          <td>preco</td>      <th>  R-squared:         </th>  <td>   0.006</td>  \n",
       "</tr>\n",
       "<tr>\n",
       "  <th>Model:</th>                   <td>OLS</td>       <th>  Adj. R-squared:    </th>  <td>   0.006</td>  \n",
       "</tr>\n",
       "<tr>\n",
       "  <th>Method:</th>             <td>Least Squares</td>  <th>  F-statistic:       </th>  <td>   20.07</td>  \n",
       "</tr>\n",
       "<tr>\n",
       "  <th>Date:</th>             <td>Thu, 13 Jul 2023</td> <th>  Prob (F-statistic):</th>  <td>4.74e-34</td>  \n",
       "</tr>\n",
       "<tr>\n",
       "  <th>Time:</th>                 <td>19:51:37</td>     <th>  Log-Likelihood:    </th> <td>-1.1304e+06</td>\n",
       "</tr>\n",
       "<tr>\n",
       "  <th>No. Observations:</th>      <td> 29584</td>      <th>  AIC:               </th>  <td>2.261e+06</td> \n",
       "</tr>\n",
       "<tr>\n",
       "  <th>Df Residuals:</th>          <td> 29574</td>      <th>  BIC:               </th>  <td>2.261e+06</td> \n",
       "</tr>\n",
       "<tr>\n",
       "  <th>Df Model:</th>              <td>     9</td>      <th>                     </th>      <td> </td>     \n",
       "</tr>\n",
       "<tr>\n",
       "  <th>Covariance Type:</th>      <td>nonrobust</td>    <th>                     </th>      <td> </td>     \n",
       "</tr>\n",
       "</table>\n",
       "<table class=\"simpletable\">\n",
       "<tr>\n",
       "                <td></td>                  <th>coef</th>     <th>std err</th>      <th>t</th>      <th>P>|t|</th>  <th>[0.025</th>    <th>0.975]</th>  \n",
       "</tr>\n",
       "<tr>\n",
       "  <th>Intercept</th>                    <td> 6.446e+15</td> <td> 1.87e+15</td> <td>    3.451</td> <td> 0.001</td> <td> 2.78e+15</td> <td> 1.01e+16</td>\n",
       "</tr>\n",
       "<tr>\n",
       "  <th>tipo[T.Hatchback]</th>            <td> 4.799e+15</td> <td> 1.88e+15</td> <td>    2.558</td> <td> 0.011</td> <td> 1.12e+15</td> <td> 8.48e+15</td>\n",
       "</tr>\n",
       "<tr>\n",
       "  <th>tipo[T.Minivan]</th>              <td> 9.972e+14</td> <td> 4.06e+15</td> <td>    0.246</td> <td> 0.806</td> <td>-6.95e+15</td> <td> 8.95e+15</td>\n",
       "</tr>\n",
       "<tr>\n",
       "  <th>tipo[T.Perua/SW]</th>             <td> 6.351e+15</td> <td> 2.62e+15</td> <td>    2.423</td> <td> 0.015</td> <td> 1.21e+15</td> <td> 1.15e+16</td>\n",
       "</tr>\n",
       "<tr>\n",
       "  <th>tipo[T.Picape]</th>               <td> 5.394e+15</td> <td> 1.88e+15</td> <td>    2.876</td> <td> 0.004</td> <td> 1.72e+15</td> <td> 9.07e+15</td>\n",
       "</tr>\n",
       "<tr>\n",
       "  <th>tipo[T.Sedã]</th>                 <td> 4.273e+15</td> <td> 1.87e+15</td> <td>    2.284</td> <td> 0.022</td> <td> 6.06e+14</td> <td> 7.94e+15</td>\n",
       "</tr>\n",
       "<tr>\n",
       "  <th>tipo[T.Utilitário esportivo]</th> <td> 5.703e+15</td> <td> 1.88e+15</td> <td>    3.041</td> <td> 0.002</td> <td> 2.03e+15</td> <td> 9.38e+15</td>\n",
       "</tr>\n",
       "<tr>\n",
       "  <th>marca_popular</th>                <td>  -7.6e+14</td> <td> 1.26e+14</td> <td>   -6.037</td> <td> 0.000</td> <td>-1.01e+15</td> <td>-5.13e+14</td>\n",
       "</tr>\n",
       "<tr>\n",
       "  <th>hodometro</th>                    <td>-9.222e+09</td> <td> 1.92e+09</td> <td>   -4.810</td> <td> 0.000</td> <td> -1.3e+10</td> <td>-5.46e+09</td>\n",
       "</tr>\n",
       "<tr>\n",
       "  <th>veiculo_único_dono</th>           <td>-2.756e+14</td> <td>  1.3e+14</td> <td>   -2.123</td> <td> 0.034</td> <td> -5.3e+14</td> <td>-2.11e+13</td>\n",
       "</tr>\n",
       "</table>\n",
       "<table class=\"simpletable\">\n",
       "<tr>\n",
       "  <th>Omnibus:</th>       <td>15732.444</td> <th>  Durbin-Watson:     </th>  <td>   1.996</td> \n",
       "</tr>\n",
       "<tr>\n",
       "  <th>Prob(Omnibus):</th>  <td> 0.000</td>   <th>  Jarque-Bera (JB):  </th> <td>131756.828</td>\n",
       "</tr>\n",
       "<tr>\n",
       "  <th>Skew:</th>           <td> 2.445</td>   <th>  Prob(JB):          </th>  <td>    0.00</td> \n",
       "</tr>\n",
       "<tr>\n",
       "  <th>Kurtosis:</th>       <td>12.109</td>   <th>  Cond. No.          </th>  <td>6.39e+06</td> \n",
       "</tr>\n",
       "</table><br/><br/>Notes:<br/>[1] Standard Errors assume that the covariance matrix of the errors is correctly specified.<br/>[2] The condition number is large, 6.39e+06. This might indicate that there are<br/>strong multicollinearity or other numerical problems."
      ],
      "text/plain": [
       "<class 'statsmodels.iolib.summary.Summary'>\n",
       "\"\"\"\n",
       "                            OLS Regression Results                            \n",
       "==============================================================================\n",
       "Dep. Variable:                  preco   R-squared:                       0.006\n",
       "Model:                            OLS   Adj. R-squared:                  0.006\n",
       "Method:                 Least Squares   F-statistic:                     20.07\n",
       "Date:                Thu, 13 Jul 2023   Prob (F-statistic):           4.74e-34\n",
       "Time:                        19:51:37   Log-Likelihood:            -1.1304e+06\n",
       "No. Observations:               29584   AIC:                         2.261e+06\n",
       "Df Residuals:                   29574   BIC:                         2.261e+06\n",
       "Df Model:                           9                                         \n",
       "Covariance Type:            nonrobust                                         \n",
       "================================================================================================\n",
       "                                   coef    std err          t      P>|t|      [0.025      0.975]\n",
       "------------------------------------------------------------------------------------------------\n",
       "Intercept                     6.446e+15   1.87e+15      3.451      0.001    2.78e+15    1.01e+16\n",
       "tipo[T.Hatchback]             4.799e+15   1.88e+15      2.558      0.011    1.12e+15    8.48e+15\n",
       "tipo[T.Minivan]               9.972e+14   4.06e+15      0.246      0.806   -6.95e+15    8.95e+15\n",
       "tipo[T.Perua/SW]              6.351e+15   2.62e+15      2.423      0.015    1.21e+15    1.15e+16\n",
       "tipo[T.Picape]                5.394e+15   1.88e+15      2.876      0.004    1.72e+15    9.07e+15\n",
       "tipo[T.Sedã]                  4.273e+15   1.87e+15      2.284      0.022    6.06e+14    7.94e+15\n",
       "tipo[T.Utilitário esportivo]  5.703e+15   1.88e+15      3.041      0.002    2.03e+15    9.38e+15\n",
       "marca_popular                  -7.6e+14   1.26e+14     -6.037      0.000   -1.01e+15   -5.13e+14\n",
       "hodometro                    -9.222e+09   1.92e+09     -4.810      0.000    -1.3e+10   -5.46e+09\n",
       "veiculo_único_dono           -2.756e+14    1.3e+14     -2.123      0.034    -5.3e+14   -2.11e+13\n",
       "==============================================================================\n",
       "Omnibus:                    15732.444   Durbin-Watson:                   1.996\n",
       "Prob(Omnibus):                  0.000   Jarque-Bera (JB):           131756.828\n",
       "Skew:                           2.445   Prob(JB):                         0.00\n",
       "Kurtosis:                      12.109   Cond. No.                     6.39e+06\n",
       "==============================================================================\n",
       "\n",
       "Notes:\n",
       "[1] Standard Errors assume that the covariance matrix of the errors is correctly specified.\n",
       "[2] The condition number is large, 6.39e+06. This might indicate that there are\n",
       "strong multicollinearity or other numerical problems.\n",
       "\"\"\""
      ]
     },
     "execution_count": 67,
     "metadata": {},
     "output_type": "execute_result"
    }
   ],
   "source": [
    "reg.summary()"
   ]
  },
  {
   "cell_type": "markdown",
   "id": "1f855439",
   "metadata": {},
   "source": [
    "## Selecionamos todas as variáveis para treinar o modelo e observamos o reg.summary() , fomos retirando as variáveis x do nosso modelo observando o valor de P , que significa a probabilidade de que a relação entre as variáveis observadas seja ao acaso, adotamos o valor de p ≤ 0,05 ou seja, menor ou igual a 5%, e após filtrar ainda fomos adicionando novamente as variáveis para ver como o valor de P se comportava e chegamos a essa regressão final"
   ]
  },
  {
   "cell_type": "markdown",
   "id": "9cf5e03a",
   "metadata": {},
   "source": [
    "## vamos ver como as colunas escolhidas se comportam "
   ]
  },
  {
   "cell_type": "code",
   "execution_count": 68,
   "id": "700c625d",
   "metadata": {},
   "outputs": [
    {
     "name": "stderr",
     "output_type": "stream",
     "text": [
      "No artists with labels found to put in legend.  Note that artists whose label start with an underscore are ignored when legend() is called with no argument.\n"
     ]
    },
    {
     "data": {
      "image/png": "[encoded data removed]",
      "text/plain": [
       "<Figure size 1000x600 with 1 Axes>"
      ]
     },
     "metadata": {},
     "output_type": "display_data"
    }
   ],
   "source": [
    "plt.figure(figsize=(10, 6))\n",
    "sns.barplot(data=train_,x='tipo',y='preco')\n",
    "plt.xlabel('Tipo do Carro', fontsize=13)\n",
    "plt.ylabel('Preço', fontsize=13)\n",
    "plt.title('Preço dos carros baseado no tipo', fontsize=15)\n",
    "plt.legend(fontsize=10)\n",
    "plt.show()"
   ]
  },
  {
   "cell_type": "code",
   "execution_count": 69,
   "id": "ebd8b72b",
   "metadata": {},
   "outputs": [
    {
     "data": {
      "image/png": "[encoded data removed]",
      "text/plain": [
       "<Figure size 1000x800 with 1 Axes>"
      ]
     },
     "metadata": {},
     "output_type": "display_data"
    }
   ],
   "source": [
    "plt.figure(figsize=(10, 8))\n",
    "sns.barplot(data=train_,x='marca_popular',y='preco')\n",
    "plt.xlabel('Marca popular', fontsize=13)\n",
    "plt.ylabel('Preço', fontsize=13)\n",
    "plt.title('Preço dos carros sendo o carro popular ou não', fontsize=15)\n",
    "plt.show()"
   ]
  },
  {
   "cell_type": "code",
   "execution_count": 70,
   "id": "851588ea",
   "metadata": {},
   "outputs": [
    {
     "name": "stderr",
     "output_type": "stream",
     "text": [
      "No artists with labels found to put in legend.  Note that artists whose label start with an underscore are ignored when legend() is called with no argument.\n"
     ]
    },
    {
     "data": {
      "image/png": "[encoded data removed]",
      "text/plain": [
       "<Figure size 1000x800 with 1 Axes>"
      ]
     },
     "metadata": {},
     "output_type": "display_data"
    }
   ],
   "source": [
    "plt.figure(figsize=(10, 8))\n",
    "sns.scatterplot(data=train_,x='hodometro',y='preco')\n",
    "plt.xlabel('hodometro', fontsize=13)\n",
    "plt.ylabel('Preço', fontsize=13)\n",
    "plt.title('Preço dos carros em função do hodometro', fontsize=15)\n",
    "plt.legend(fontsize=10)\n",
    "plt.show()"
   ]
  },
  {
   "cell_type": "code",
   "execution_count": 71,
   "id": "cc495677",
   "metadata": {},
   "outputs": [
    {
     "data": {
      "image/png": "[encoded data removed]",
      "text/plain": [
       "<Figure size 1000x800 with 1 Axes>"
      ]
     },
     "metadata": {},
     "output_type": "display_data"
    }
   ],
   "source": [
    "plt.figure(figsize=(10, 8))\n",
    "sns.barplot(data=train_,x='veiculo_único_dono',y='preco')\n",
    "plt.xlabel('Único dono', fontsize=13)\n",
    "plt.ylabel('Preço', fontsize=13)\n",
    "plt.title('Preço dos carros tendo único dono ou não', fontsize=15)\n",
    "plt.show()"
   ]
  },
  {
   "cell_type": "code",
   "execution_count": 72,
   "id": "7fae1a28",
   "metadata": {
    "scrolled": false
   },
   "outputs": [
    {
     "data": {
      "text/plain": [
       "<AxesSubplot:>"
      ]
     },
     "execution_count": 72,
     "metadata": {},
     "output_type": "execute_result"
    },
    {
     "data": {
      "image/png": "[encoded data removed]",
      "text/plain": [
       "<Figure size 640x480 with 2 Axes>"
      ]
     },
     "metadata": {},
     "output_type": "display_data"
    }
   ],
   "source": [
    "sns.heatmap(train_[['preco','marca_popular','tipo','hodometro','veiculo_único_dono']].corr(),center=0,vmin=-1,vmax=1)"
   ]
  },
  {
   "cell_type": "code",
   "execution_count": 73,
   "id": "4c21dc26",
   "metadata": {},
   "outputs": [],
   "source": [
    "train_['predito'] = reg.fittedvalues"
   ]
  },
  {
   "cell_type": "code",
   "execution_count": 74,
   "id": "40033ae6",
   "metadata": {},
   "outputs": [],
   "source": [
    "train_['resid'] = reg.resid"
   ]
  },
  {
   "cell_type": "markdown",
   "id": "ba2b38f5",
   "metadata": {},
   "source": [
    "## Como os preços são valores muito altos, acaba inviabilizando analisar o r² e o resíduo"
   ]
  },
  {
   "cell_type": "markdown",
   "id": "3f64f35c",
   "metadata": {},
   "source": [
    "## Agora vamos transformar os dados na base de test para realizar as predições finais"
   ]
  },
  {
   "cell_type": "code",
   "execution_count": 75,
   "id": "0bb79dcd",
   "metadata": {},
   "outputs": [],
   "source": [
    "test_ = test[['marca','hodometro','veiculo_único_dono']].copy()"
   ]
  },
  {
   "cell_type": "code",
   "execution_count": 76,
   "id": "da687f00",
   "metadata": {},
   "outputs": [
    {
     "data": {
      "text/html": [
       "<div>\n",
       "<style scoped>\n",
       "    .dataframe tbody tr th:only-of-type {\n",
       "        vertical-align: middle;\n",
       "    }\n",
       "\n",
       "    .dataframe tbody tr th {\n",
       "        vertical-align: top;\n",
       "    }\n",
       "\n",
       "    .dataframe thead th {\n",
       "        text-align: right;\n",
       "    }\n",
       "</style>\n",
       "<table border=\"1\" class=\"dataframe\">\n",
       "  <thead>\n",
       "    <tr style=\"text-align: right;\">\n",
       "      <th></th>\n",
       "      <th>marca</th>\n",
       "      <th>hodometro</th>\n",
       "      <th>veiculo_único_dono</th>\n",
       "    </tr>\n",
       "  </thead>\n",
       "  <tbody>\n",
       "    <tr>\n",
       "      <th>0</th>\n",
       "      <td>NISSAN</td>\n",
       "      <td>20258.0</td>\n",
       "      <td>NaN</td>\n",
       "    </tr>\n",
       "    <tr>\n",
       "      <th>1</th>\n",
       "      <td>FIAT</td>\n",
       "      <td>53045.0</td>\n",
       "      <td>Único dono</td>\n",
       "    </tr>\n",
       "    <tr>\n",
       "      <th>2</th>\n",
       "      <td>AUDI</td>\n",
       "      <td>32486.0</td>\n",
       "      <td>NaN</td>\n",
       "    </tr>\n",
       "    <tr>\n",
       "      <th>3</th>\n",
       "      <td>CHEVROLET</td>\n",
       "      <td>24937.0</td>\n",
       "      <td>Único dono</td>\n",
       "    </tr>\n",
       "    <tr>\n",
       "      <th>4</th>\n",
       "      <td>FORD</td>\n",
       "      <td>62074.0</td>\n",
       "      <td>NaN</td>\n",
       "    </tr>\n",
       "    <tr>\n",
       "      <th>...</th>\n",
       "      <td>...</td>\n",
       "      <td>...</td>\n",
       "      <td>...</td>\n",
       "    </tr>\n",
       "    <tr>\n",
       "      <th>9857</th>\n",
       "      <td>TOYOTA</td>\n",
       "      <td>44943.0</td>\n",
       "      <td>NaN</td>\n",
       "    </tr>\n",
       "    <tr>\n",
       "      <th>9858</th>\n",
       "      <td>TOYOTA</td>\n",
       "      <td>44316.0</td>\n",
       "      <td>NaN</td>\n",
       "    </tr>\n",
       "    <tr>\n",
       "      <th>9859</th>\n",
       "      <td>CHEVROLET</td>\n",
       "      <td>21587.0</td>\n",
       "      <td>Único dono</td>\n",
       "    </tr>\n",
       "    <tr>\n",
       "      <th>9860</th>\n",
       "      <td>PEUGEOT</td>\n",
       "      <td>54084.0</td>\n",
       "      <td>Único dono</td>\n",
       "    </tr>\n",
       "    <tr>\n",
       "      <th>9861</th>\n",
       "      <td>TOYOTA</td>\n",
       "      <td>32511.0</td>\n",
       "      <td>NaN</td>\n",
       "    </tr>\n",
       "  </tbody>\n",
       "</table>\n",
       "<p>9862 rows × 3 columns</p>\n",
       "</div>"
      ],
      "text/plain": [
       "          marca  hodometro veiculo_único_dono\n",
       "0        NISSAN    20258.0                NaN\n",
       "1          FIAT    53045.0         Único dono\n",
       "2          AUDI    32486.0                NaN\n",
       "3     CHEVROLET    24937.0         Único dono\n",
       "4          FORD    62074.0                NaN\n",
       "...         ...        ...                ...\n",
       "9857     TOYOTA    44943.0                NaN\n",
       "9858     TOYOTA    44316.0                NaN\n",
       "9859  CHEVROLET    21587.0         Único dono\n",
       "9860    PEUGEOT    54084.0         Único dono\n",
       "9861     TOYOTA    32511.0                NaN\n",
       "\n",
       "[9862 rows x 3 columns]"
      ]
     },
     "execution_count": 76,
     "metadata": {},
     "output_type": "execute_result"
    }
   ],
   "source": [
    "test_"
   ]
  },
  {
   "cell_type": "code",
   "execution_count": 77,
   "id": "28730599",
   "metadata": {},
   "outputs": [
    {
     "data": {
      "text/plain": [
       "Único dono    3475\n",
       "Name: veiculo_único_dono, dtype: int64"
      ]
     },
     "execution_count": 77,
     "metadata": {},
     "output_type": "execute_result"
    }
   ],
   "source": [
    "test_.veiculo_único_dono.value_counts()"
   ]
  },
  {
   "cell_type": "code",
   "execution_count": 78,
   "id": "0c959572",
   "metadata": {},
   "outputs": [
    {
     "data": {
      "text/plain": [
       "0.0    6387\n",
       "1.0    3475\n",
       "Name: veiculo_único_dono, dtype: int64"
      ]
     },
     "execution_count": 78,
     "metadata": {},
     "output_type": "execute_result"
    }
   ],
   "source": [
    "test_['veiculo_único_dono'] = test_['veiculo_único_dono'].replace('Único dono',1)\n",
    "test_['veiculo_único_dono'] = test_['veiculo_único_dono'].fillna(0)\n",
    "test_.veiculo_único_dono.value_counts()"
   ]
  },
  {
   "cell_type": "code",
   "execution_count": 79,
   "id": "63ce9596",
   "metadata": {},
   "outputs": [],
   "source": [
    "marca_popular = ['VOLKSWAGEN','CHEVROLET','TOYOTA','HYUNDAI','FIAT','PEUGEOT','HONDA','FORD','RENAULT','NISSAN','CITROEN']"
   ]
  },
  {
   "cell_type": "code",
   "execution_count": 80,
   "id": "f50dc849",
   "metadata": {},
   "outputs": [
    {
     "name": "stderr",
     "output_type": "stream",
     "text": [
      "C:\\Users\\felip\\AppData\\Local\\Temp\\ipykernel_5016\\1990965571.py:4: SettingWithCopyWarning: \n",
      "A value is trying to be set on a copy of a slice from a DataFrame\n",
      "\n",
      "See the caveats in the documentation: https://pandas.pydata.org/pandas-docs/stable/user_guide/indexing.html#returning-a-view-versus-a-copy\n",
      "  test_['marca'][test_mask] = 1\n"
     ]
    }
   ],
   "source": [
    "for i in range(0,11):\n",
    "    marca = marca_popular[i]\n",
    "    test_mask = test.marca==marca\n",
    "    test_['marca'][test_mask] = 1"
   ]
  },
  {
   "cell_type": "code",
   "execution_count": 84,
   "id": "62850840",
   "metadata": {},
   "outputs": [
    {
     "data": {
      "text/plain": [
       "1                6335\n",
       "JEEP              667\n",
       "AUDI              593\n",
       "BMW               591\n",
       "MERCEDES-BENZ     376\n",
       "MITSUBISHI        286\n",
       "LAND ROVER        267\n",
       "KIA               157\n",
       "PORSCHE           121\n",
       "VOLVO              76\n",
       "JAGUAR             64\n",
       "CITROËN            54\n",
       "RAM                53\n",
       "CHERY              49\n",
       "TROLLER            46\n",
       "MINI               45\n",
       "LEXUS              16\n",
       "SUBARU             13\n",
       "SUZUKI             10\n",
       "CHRYSLER           10\n",
       "DODGE              10\n",
       "SSANGYONG           6\n",
       "MASERATI            5\n",
       "SMART               4\n",
       "JAC                 2\n",
       "LIFAN               2\n",
       "FERRARI             1\n",
       "EFFA                1\n",
       "ALFA ROMEO          1\n",
       "LAMBORGHINI         1\n",
       "Name: marca, dtype: int64"
      ]
     },
     "execution_count": 84,
     "metadata": {},
     "output_type": "execute_result"
    }
   ],
   "source": [
    "test_.marca.value_counts()"
   ]
  },
  {
   "cell_type": "code",
   "execution_count": 92,
   "id": "7df3cfae",
   "metadata": {},
   "outputs": [
    {
     "name": "stderr",
     "output_type": "stream",
     "text": [
      "C:\\Users\\felip\\AppData\\Local\\Temp\\ipykernel_5016\\3521576874.py:5: SettingWithCopyWarning: \n",
      "A value is trying to be set on a copy of a slice from a DataFrame\n",
      "\n",
      "See the caveats in the documentation: https://pandas.pydata.org/pandas-docs/stable/user_guide/indexing.html#returning-a-view-versus-a-copy\n",
      "  test_['marca'][test_mask] = 0\n"
     ]
    }
   ],
   "source": [
    "marca_nao_popular = test_.marca.value_counts().index[1:]\n",
    "for i in range(0,29):\n",
    "    marca = marca_nao_popular[i]\n",
    "    test_mask = test.marca==marca\n",
    "    test_['marca'][test_mask] = 0"
   ]
  },
  {
   "cell_type": "code",
   "execution_count": 93,
   "id": "53d27d1f",
   "metadata": {},
   "outputs": [],
   "source": [
    "test_.rename({\"marca\": \"marca_popular\"}, axis=1, inplace=True)"
   ]
  },
  {
   "cell_type": "code",
   "execution_count": 94,
   "id": "5091f8b3",
   "metadata": {},
   "outputs": [
    {
     "data": {
      "text/plain": [
       "1    6335\n",
       "0    3527\n",
       "Name: marca_popular, dtype: int64"
      ]
     },
     "execution_count": 94,
     "metadata": {},
     "output_type": "execute_result"
    }
   ],
   "source": [
    "test_.marca_popular.value_counts()"
   ]
  },
  {
   "cell_type": "code",
   "execution_count": 96,
   "id": "29146ef2",
   "metadata": {},
   "outputs": [],
   "source": [
    "reg2= reg.predict(train_)"
   ]
  },
  {
   "cell_type": "code",
   "execution_count": 101,
   "id": "aec9f883",
   "metadata": {},
   "outputs": [],
   "source": [
    "train['preco'] = reg2"
   ]
  },
  {
   "cell_type": "code",
   "execution_count": 103,
   "id": "1412b2fc",
   "metadata": {},
   "outputs": [],
   "source": [
    "df_final = train[['id','preco']]"
   ]
  },
  {
   "cell_type": "code",
   "execution_count": 105,
   "id": "b6196621",
   "metadata": {},
   "outputs": [],
   "source": [
    "df_final.to_csv('predicted.csv',index=False)"
   ]
  },
  {
   "cell_type": "code",
   "execution_count": 106,
   "id": "430d3285",
   "metadata": {},
   "outputs": [],
   "source": [
    "testando = pd.read_csv('predicted.csv')"
   ]
  }
 ],
 "metadata": {
  "kernelspec": {
   "display_name": "Python 3 (ipykernel)",
   "language": "python",
   "name": "python3"
  },
  "language_info": {
   "codemirror_mode": {
    "name": "ipython",
    "version": 3
   },
   "file_extension": ".py",
   "mimetype": "text/x-python",
   "name": "python",
   "nbconvert_exporter": "python",
   "pygments_lexer": "ipython3",
   "version": "3.9.13"
  }
 },
 "nbformat": 4,
 "nbformat_minor": 5
}
