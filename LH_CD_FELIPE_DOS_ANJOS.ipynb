{
 "cells": [
  {
   "cell_type": "code",
   "execution_count": 1,
   "id": "ee49403e",
   "metadata": {},
   "outputs": [],
   "source": [
    "import pandas as pd\n",
    "import numpy as np\n",
    "import statsmodels.formula.api as smf"
   ]
  },
  {
   "cell_type": "code",
   "execution_count": 2,
   "id": "f7c764bb",
   "metadata": {},
   "outputs": [],
   "source": [
    "#!pip freeze > requirements.txt"
   ]
  },
  {
   "cell_type": "code",
   "execution_count": 3,
   "id": "61913453",
   "metadata": {},
   "outputs": [],
   "source": [
    "#!pip install -r requirements.txt"
   ]
  },
  {
   "cell_type": "code",
   "execution_count": 5,
   "id": "9f5c08bc",
   "metadata": {},
   "outputs": [],
   "source": [
    "df = pd.read_csv('treinamento.csv')"
   ]
  },
  {
   "cell_type": "code",
   "execution_count": null,
   "id": "497c0d77",
   "metadata": {},
   "outputs": [],
   "source": [
    "#predicao = pd.read_csv('test.csv')"
   ]
  },
  {
   "cell_type": "code",
   "execution_count": 7,
   "id": "347374fa",
   "metadata": {},
   "outputs": [],
   "source": [
    "reg = smf.ols('preco ~ marca_popular+tipo+hodometro+veiculo_único_dono',df).fit()"
   ]
  },
  {
   "cell_type": "code",
   "execution_count": null,
   "id": "17eec0e7",
   "metadata": {},
   "outputs": [],
   "source": [
    "#reg2= reg.predict(test)"
   ]
  },
  {
   "cell_type": "code",
   "execution_count": null,
   "id": "2a880965",
   "metadata": {},
   "outputs": [],
   "source": [
    "#predicao['valores'] = reg2"
   ]
  }
 ],
 "metadata": {
  "kernelspec": {
   "display_name": "Python 3 (ipykernel)",
   "language": "python",
   "name": "python3"
  },
  "language_info": {
   "codemirror_mode": {
    "name": "ipython",
    "version": 3
   },
   "file_extension": ".py",
   "mimetype": "text/x-python",
   "name": "python",
   "nbconvert_exporter": "python",
   "pygments_lexer": "ipython3",
   "version": "3.9.13"
  }
 },
 "nbformat": 4,
 "nbformat_minor": 5
}
