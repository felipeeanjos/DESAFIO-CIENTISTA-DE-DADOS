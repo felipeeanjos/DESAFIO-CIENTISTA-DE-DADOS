{
 "cells": [
  {
   "cell_type": "code",
   "execution_count": 80,
   "id": "7a9f4f20",
   "metadata": {},
   "outputs": [],
   "source": [
    "import pandas as pd\n",
    "import seaborn as sns\n",
    "import matplotlib.pyplot as plt\n",
    "import numpy as np"
   ]
  },
  {
   "cell_type": "code",
   "execution_count": 81,
   "id": "c9b0bc55",
   "metadata": {},
   "outputs": [],
   "source": [
    "df = pd.read_csv('train_hipoteses.csv')"
   ]
  },
  {
   "cell_type": "markdown",
   "id": "2ef5ac84",
   "metadata": {},
   "source": [
    "# Qual o melhor estado cadastrado na base de dados para se vender um carro de marca popular e por quê?"
   ]
  },
  {
   "cell_type": "code",
   "execution_count": 82,
   "id": "fc27a53a",
   "metadata": {},
   "outputs": [
    {
     "data": {
      "text/html": [
       "<div>\n",
       "<style scoped>\n",
       "    .dataframe tbody tr th:only-of-type {\n",
       "        vertical-align: middle;\n",
       "    }\n",
       "\n",
       "    .dataframe tbody tr th {\n",
       "        vertical-align: top;\n",
       "    }\n",
       "\n",
       "    .dataframe thead th {\n",
       "        text-align: right;\n",
       "    }\n",
       "</style>\n",
       "<table border=\"1\" class=\"dataframe\">\n",
       "  <thead>\n",
       "    <tr style=\"text-align: right;\">\n",
       "      <th></th>\n",
       "      <th>id</th>\n",
       "      <th>num_fotos</th>\n",
       "      <th>marca_popular</th>\n",
       "      <th>ano_de_fabricacao</th>\n",
       "      <th>ano_modelo</th>\n",
       "      <th>hodometro</th>\n",
       "      <th>cambio</th>\n",
       "      <th>num_portas</th>\n",
       "      <th>tipo</th>\n",
       "      <th>blindado</th>\n",
       "      <th>...</th>\n",
       "      <th>dono_aceita_troca</th>\n",
       "      <th>veiculo_único_dono</th>\n",
       "      <th>revisoes_concessionaria</th>\n",
       "      <th>ipva_pago</th>\n",
       "      <th>veiculo_licenciado</th>\n",
       "      <th>garantia_de_fábrica</th>\n",
       "      <th>revisoes_dentro_agenda</th>\n",
       "      <th>preco</th>\n",
       "      <th>predito</th>\n",
       "      <th>resid</th>\n",
       "    </tr>\n",
       "  </thead>\n",
       "  <tbody>\n",
       "    <tr>\n",
       "      <th>0</th>\n",
       "      <td>3,00716E+38</td>\n",
       "      <td>8.0</td>\n",
       "      <td>1</td>\n",
       "      <td>(2015, 2018]</td>\n",
       "      <td>(2016, 2018]</td>\n",
       "      <td>67772.0</td>\n",
       "      <td>CVT</td>\n",
       "      <td>4</td>\n",
       "      <td>Sedã</td>\n",
       "      <td>0</td>\n",
       "      <td>...</td>\n",
       "      <td>0.0</td>\n",
       "      <td>0.0</td>\n",
       "      <td>1.0</td>\n",
       "      <td>1.0</td>\n",
       "      <td>1.0</td>\n",
       "      <td>0.0</td>\n",
       "      <td>0.0</td>\n",
       "      <td>7.473259e+15</td>\n",
       "      <td>9.334009e+15</td>\n",
       "      <td>-1.860750e+15</td>\n",
       "    </tr>\n",
       "    <tr>\n",
       "      <th>3</th>\n",
       "      <td>5,68625E+37</td>\n",
       "      <td>14.0</td>\n",
       "      <td>1</td>\n",
       "      <td>(1984, 2015]</td>\n",
       "      <td>(1996, 2016]</td>\n",
       "      <td>85357.0</td>\n",
       "      <td>Automática</td>\n",
       "      <td>4</td>\n",
       "      <td>Picape</td>\n",
       "      <td>0</td>\n",
       "      <td>...</td>\n",
       "      <td>1.0</td>\n",
       "      <td>0.0</td>\n",
       "      <td>0.0</td>\n",
       "      <td>1.0</td>\n",
       "      <td>1.0</td>\n",
       "      <td>0.0</td>\n",
       "      <td>0.0</td>\n",
       "      <td>1.236814e+16</td>\n",
       "      <td>1.029320e+16</td>\n",
       "      <td>2.074940e+15</td>\n",
       "    </tr>\n",
       "    <tr>\n",
       "      <th>5</th>\n",
       "      <td>3,04613E+38</td>\n",
       "      <td>13.0</td>\n",
       "      <td>1</td>\n",
       "      <td>(2015, 2018]</td>\n",
       "      <td>(2016, 2018]</td>\n",
       "      <td>85314.0</td>\n",
       "      <td>Manual</td>\n",
       "      <td>4</td>\n",
       "      <td>Sedã</td>\n",
       "      <td>0</td>\n",
       "      <td>...</td>\n",
       "      <td>1.0</td>\n",
       "      <td>0.0</td>\n",
       "      <td>0.0</td>\n",
       "      <td>0.0</td>\n",
       "      <td>0.0</td>\n",
       "      <td>0.0</td>\n",
       "      <td>0.0</td>\n",
       "      <td>5.132585e+15</td>\n",
       "      <td>9.172236e+15</td>\n",
       "      <td>-4.039651e+15</td>\n",
       "    </tr>\n",
       "    <tr>\n",
       "      <th>6</th>\n",
       "      <td>2,30951E+38</td>\n",
       "      <td>14.0</td>\n",
       "      <td>1</td>\n",
       "      <td>(2018, 2019]</td>\n",
       "      <td>(2018, 2020]</td>\n",
       "      <td>27834.0</td>\n",
       "      <td>CVT</td>\n",
       "      <td>4</td>\n",
       "      <td>Sedã</td>\n",
       "      <td>0</td>\n",
       "      <td>...</td>\n",
       "      <td>1.0</td>\n",
       "      <td>0.0</td>\n",
       "      <td>0.0</td>\n",
       "      <td>0.0</td>\n",
       "      <td>0.0</td>\n",
       "      <td>0.0</td>\n",
       "      <td>0.0</td>\n",
       "      <td>9.736680e+15</td>\n",
       "      <td>9.702320e+15</td>\n",
       "      <td>3.436006e+13</td>\n",
       "    </tr>\n",
       "    <tr>\n",
       "      <th>7</th>\n",
       "      <td>1,90159E+38</td>\n",
       "      <td>15.0</td>\n",
       "      <td>1</td>\n",
       "      <td>(2015, 2018]</td>\n",
       "      <td>(2016, 2018]</td>\n",
       "      <td>95054.0</td>\n",
       "      <td>Automática</td>\n",
       "      <td>4</td>\n",
       "      <td>Hatchback</td>\n",
       "      <td>0</td>\n",
       "      <td>...</td>\n",
       "      <td>1.0</td>\n",
       "      <td>0.0</td>\n",
       "      <td>0.0</td>\n",
       "      <td>0.0</td>\n",
       "      <td>0.0</td>\n",
       "      <td>0.0</td>\n",
       "      <td>0.0</td>\n",
       "      <td>4.626304e+16</td>\n",
       "      <td>9.608503e+15</td>\n",
       "      <td>3.665454e+16</td>\n",
       "    </tr>\n",
       "  </tbody>\n",
       "</table>\n",
       "<p>5 rows × 27 columns</p>\n",
       "</div>"
      ],
      "text/plain": [
       "            id  num_fotos  marca_popular ano_de_fabricacao    ano_modelo  \\\n",
       "0  3,00716E+38        8.0              1      (2015, 2018]  (2016, 2018]   \n",
       "3  5,68625E+37       14.0              1      (1984, 2015]  (1996, 2016]   \n",
       "5  3,04613E+38       13.0              1      (2015, 2018]  (2016, 2018]   \n",
       "6  2,30951E+38       14.0              1      (2018, 2019]  (2018, 2020]   \n",
       "7  1,90159E+38       15.0              1      (2015, 2018]  (2016, 2018]   \n",
       "\n",
       "   hodometro      cambio  num_portas       tipo  blindado  ...  \\\n",
       "0    67772.0         CVT           4       Sedã         0  ...   \n",
       "3    85357.0  Automática           4     Picape         0  ...   \n",
       "5    85314.0      Manual           4       Sedã         0  ...   \n",
       "6    27834.0         CVT           4       Sedã         0  ...   \n",
       "7    95054.0  Automática           4  Hatchback         0  ...   \n",
       "\n",
       "  dono_aceita_troca veiculo_único_dono revisoes_concessionaria ipva_pago  \\\n",
       "0               0.0                0.0                     1.0       1.0   \n",
       "3               1.0                0.0                     0.0       1.0   \n",
       "5               1.0                0.0                     0.0       0.0   \n",
       "6               1.0                0.0                     0.0       0.0   \n",
       "7               1.0                0.0                     0.0       0.0   \n",
       "\n",
       "   veiculo_licenciado  garantia_de_fábrica  revisoes_dentro_agenda  \\\n",
       "0                 1.0                  0.0                     0.0   \n",
       "3                 1.0                  0.0                     0.0   \n",
       "5                 0.0                  0.0                     0.0   \n",
       "6                 0.0                  0.0                     0.0   \n",
       "7                 0.0                  0.0                     0.0   \n",
       "\n",
       "          preco       predito         resid  \n",
       "0  7.473259e+15  9.334009e+15 -1.860750e+15  \n",
       "3  1.236814e+16  1.029320e+16  2.074940e+15  \n",
       "5  5.132585e+15  9.172236e+15 -4.039651e+15  \n",
       "6  9.736680e+15  9.702320e+15  3.436006e+13  \n",
       "7  4.626304e+16  9.608503e+15  3.665454e+16  \n",
       "\n",
       "[5 rows x 27 columns]"
      ]
     },
     "execution_count": 82,
     "metadata": {},
     "output_type": "execute_result"
    }
   ],
   "source": [
    "#definindo dataset apenas onde a marca_popular é verdadeira ,ou seja, igual a 1\n",
    "popular = df[df.marca_popular==1]\n",
    "popular.head()"
   ]
  },
  {
   "cell_type": "code",
   "execution_count": 83,
   "id": "af83d540",
   "metadata": {
    "scrolled": true
   },
   "outputs": [
    {
     "data": {
      "text/html": [
       "<div>\n",
       "<style scoped>\n",
       "    .dataframe tbody tr th:only-of-type {\n",
       "        vertical-align: middle;\n",
       "    }\n",
       "\n",
       "    .dataframe tbody tr th {\n",
       "        vertical-align: top;\n",
       "    }\n",
       "\n",
       "    .dataframe thead th {\n",
       "        text-align: right;\n",
       "    }\n",
       "</style>\n",
       "<table border=\"1\" class=\"dataframe\">\n",
       "  <thead>\n",
       "    <tr style=\"text-align: right;\">\n",
       "      <th></th>\n",
       "      <th>marca_popular</th>\n",
       "    </tr>\n",
       "    <tr>\n",
       "      <th>estado_vendedor</th>\n",
       "      <th></th>\n",
       "    </tr>\n",
       "  </thead>\n",
       "  <tbody>\n",
       "    <tr>\n",
       "      <th>São Paulo (SP)</th>\n",
       "      <td>10544</td>\n",
       "    </tr>\n",
       "    <tr>\n",
       "      <th>Rio de Janeiro (RJ)</th>\n",
       "      <td>1643</td>\n",
       "    </tr>\n",
       "    <tr>\n",
       "      <th>Paraná (PR)</th>\n",
       "      <td>1542</td>\n",
       "    </tr>\n",
       "    <tr>\n",
       "      <th>Santa Catarina (SC)</th>\n",
       "      <td>1417</td>\n",
       "    </tr>\n",
       "    <tr>\n",
       "      <th>Minas Gerais (MG)</th>\n",
       "      <td>1136</td>\n",
       "    </tr>\n",
       "    <tr>\n",
       "      <th>Rio Grande do Sul (RS)</th>\n",
       "      <td>973</td>\n",
       "    </tr>\n",
       "    <tr>\n",
       "      <th>Goiás (GO)</th>\n",
       "      <td>517</td>\n",
       "    </tr>\n",
       "    <tr>\n",
       "      <th>Bahia (BA)</th>\n",
       "      <td>439</td>\n",
       "    </tr>\n",
       "    <tr>\n",
       "      <th>Pernambuco (PE)</th>\n",
       "      <td>222</td>\n",
       "    </tr>\n",
       "    <tr>\n",
       "      <th>Alagoas (AL)</th>\n",
       "      <td>116</td>\n",
       "    </tr>\n",
       "    <tr>\n",
       "      <th>Paraíba (PB)</th>\n",
       "      <td>100</td>\n",
       "    </tr>\n",
       "    <tr>\n",
       "      <th>Rio Grande do Norte (RN)</th>\n",
       "      <td>73</td>\n",
       "    </tr>\n",
       "    <tr>\n",
       "      <th>Pará (PA)</th>\n",
       "      <td>69</td>\n",
       "    </tr>\n",
       "    <tr>\n",
       "      <th>Ceará (CE)</th>\n",
       "      <td>62</td>\n",
       "    </tr>\n",
       "    <tr>\n",
       "      <th>Amazonas (AM)</th>\n",
       "      <td>49</td>\n",
       "    </tr>\n",
       "    <tr>\n",
       "      <th>Mato Grosso (MT)</th>\n",
       "      <td>31</td>\n",
       "    </tr>\n",
       "    <tr>\n",
       "      <th>Mato Grosso do Sul (MS)</th>\n",
       "      <td>26</td>\n",
       "    </tr>\n",
       "    <tr>\n",
       "      <th>Espírito Santo (ES)</th>\n",
       "      <td>21</td>\n",
       "    </tr>\n",
       "    <tr>\n",
       "      <th>Tocantins (TO)</th>\n",
       "      <td>19</td>\n",
       "    </tr>\n",
       "    <tr>\n",
       "      <th>Sergipe (SE)</th>\n",
       "      <td>17</td>\n",
       "    </tr>\n",
       "    <tr>\n",
       "      <th>Acre (AC)</th>\n",
       "      <td>17</td>\n",
       "    </tr>\n",
       "    <tr>\n",
       "      <th>Maranhão (MA)</th>\n",
       "      <td>7</td>\n",
       "    </tr>\n",
       "    <tr>\n",
       "      <th>Piauí (PI)</th>\n",
       "      <td>6</td>\n",
       "    </tr>\n",
       "    <tr>\n",
       "      <th>Rondônia (RO)</th>\n",
       "      <td>4</td>\n",
       "    </tr>\n",
       "    <tr>\n",
       "      <th>Roraima (RR)</th>\n",
       "      <td>2</td>\n",
       "    </tr>\n",
       "  </tbody>\n",
       "</table>\n",
       "</div>"
      ],
      "text/plain": [
       "                          marca_popular\n",
       "estado_vendedor                        \n",
       "São Paulo (SP)                    10544\n",
       "Rio de Janeiro (RJ)                1643\n",
       "Paraná (PR)                        1542\n",
       "Santa Catarina (SC)                1417\n",
       "Minas Gerais (MG)                  1136\n",
       "Rio Grande do Sul (RS)              973\n",
       "Goiás (GO)                          517\n",
       "Bahia (BA)                          439\n",
       "Pernambuco (PE)                     222\n",
       "Alagoas (AL)                        116\n",
       "Paraíba (PB)                        100\n",
       "Rio Grande do Norte (RN)             73\n",
       "Pará (PA)                            69\n",
       "Ceará (CE)                           62\n",
       "Amazonas (AM)                        49\n",
       "Mato Grosso (MT)                     31\n",
       "Mato Grosso do Sul (MS)              26\n",
       "Espírito Santo (ES)                  21\n",
       "Tocantins (TO)                       19\n",
       "Sergipe (SE)                         17\n",
       "Acre (AC)                            17\n",
       "Maranhão (MA)                         7\n",
       "Piauí (PI)                            6\n",
       "Rondônia (RO)                         4\n",
       "Roraima (RR)                          2"
      ]
     },
     "execution_count": 83,
     "metadata": {},
     "output_type": "execute_result"
    }
   ],
   "source": [
    "#Aqui estamos analisando quantos carros de marca popular tem por estado\n",
    "popular_estado = popular[['marca_popular','estado_vendedor']].groupby('estado_vendedor').count().sort_values('marca_popular',ascending=False)\n",
    "popular_estado"
   ]
  },
  {
   "cell_type": "markdown",
   "id": "c2409744",
   "metadata": {},
   "source": [
    "## Presumindo apenas pelo número de carros de marca popular, assumisse que SP será mais fácil para vender um carro de marca popular, devido a aceitação das pessoas"
   ]
  },
  {
   "cell_type": "code",
   "execution_count": 84,
   "id": "73179843",
   "metadata": {},
   "outputs": [],
   "source": [
    "#estamos selecionando os 6 estados que mais apresentem carros de marca popular para fazer nossa análise de preço\n",
    "selecao_estados = popular_estado.index[0:6]"
   ]
  },
  {
   "cell_type": "code",
   "execution_count": 85,
   "id": "e781bdb0",
   "metadata": {},
   "outputs": [],
   "source": [
    "def listaFiltro(dataframe,nome, valores):\n",
    "    return dataframe.loc[dataframe[nome].isin(valores)]\n",
    "lista = selecao_estados.values\n",
    "dfteste = listaFiltro(popular,'estado_vendedor' ,lista)"
   ]
  },
  {
   "cell_type": "code",
   "execution_count": 86,
   "id": "078c07bd",
   "metadata": {},
   "outputs": [
    {
     "data": {
      "text/html": [
       "<div>\n",
       "<style scoped>\n",
       "    .dataframe tbody tr th:only-of-type {\n",
       "        vertical-align: middle;\n",
       "    }\n",
       "\n",
       "    .dataframe tbody tr th {\n",
       "        vertical-align: top;\n",
       "    }\n",
       "\n",
       "    .dataframe thead th {\n",
       "        text-align: right;\n",
       "    }\n",
       "</style>\n",
       "<table border=\"1\" class=\"dataframe\">\n",
       "  <thead>\n",
       "    <tr style=\"text-align: right;\">\n",
       "      <th></th>\n",
       "      <th>preco</th>\n",
       "    </tr>\n",
       "    <tr>\n",
       "      <th>estado_vendedor</th>\n",
       "      <th></th>\n",
       "    </tr>\n",
       "  </thead>\n",
       "  <tbody>\n",
       "    <tr>\n",
       "      <th>Paraná (PR)</th>\n",
       "      <td>1.013718e+16</td>\n",
       "    </tr>\n",
       "    <tr>\n",
       "      <th>Rio Grande do Sul (RS)</th>\n",
       "      <td>1.011545e+16</td>\n",
       "    </tr>\n",
       "    <tr>\n",
       "      <th>São Paulo (SP)</th>\n",
       "      <td>9.739563e+15</td>\n",
       "    </tr>\n",
       "    <tr>\n",
       "      <th>Minas Gerais (MG)</th>\n",
       "      <td>9.607157e+15</td>\n",
       "    </tr>\n",
       "    <tr>\n",
       "      <th>Santa Catarina (SC)</th>\n",
       "      <td>9.601864e+15</td>\n",
       "    </tr>\n",
       "    <tr>\n",
       "      <th>Rio de Janeiro (RJ)</th>\n",
       "      <td>9.463461e+15</td>\n",
       "    </tr>\n",
       "  </tbody>\n",
       "</table>\n",
       "</div>"
      ],
      "text/plain": [
       "                               preco\n",
       "estado_vendedor                     \n",
       "Paraná (PR)             1.013718e+16\n",
       "Rio Grande do Sul (RS)  1.011545e+16\n",
       "São Paulo (SP)          9.739563e+15\n",
       "Minas Gerais (MG)       9.607157e+15\n",
       "Santa Catarina (SC)     9.601864e+15\n",
       "Rio de Janeiro (RJ)     9.463461e+15"
      ]
     },
     "execution_count": 86,
     "metadata": {},
     "output_type": "execute_result"
    }
   ],
   "source": [
    "dfteste[['estado_vendedor','preco']].groupby('estado_vendedor').mean().sort_values('preco',ascending=False)"
   ]
  },
  {
   "cell_type": "code",
   "execution_count": 87,
   "id": "eeef3c4a",
   "metadata": {},
   "outputs": [
    {
     "name": "stderr",
     "output_type": "stream",
     "text": [
      "No artists with labels found to put in legend.  Note that artists whose label start with an underscore are ignored when legend() is called with no argument.\n"
     ]
    },
    {
     "data": {
      "image/png": "[encoded data removed]",
      "text/plain": [
       "<Figure size 1200x800 with 1 Axes>"
      ]
     },
     "metadata": {},
     "output_type": "display_data"
    }
   ],
   "source": [
    "plt.figure(figsize=(12, 8))\n",
    "sns.barplot(data=dfteste,x='estado_vendedor',y='preco')\n",
    "plt.xlabel('Estados', fontsize=13)\n",
    "plt.ylabel('preço', fontsize=13)\n",
    "plt.title('Preço médio de venda dos carros populares', fontsize=20)\n",
    "plt.legend(fontsize=10)\n",
    "plt.show()"
   ]
  },
  {
   "cell_type": "markdown",
   "id": "7f6f1bd1",
   "metadata": {},
   "source": [
    "# Aqui tiramos insights importantes, PR é o estado com média de preço mais alta, o que influencia muito na decisão, pois estamos querendo obter lucro, entretanto, SP está entre os 3, e por conter um maior número de carros pode ter maior influência nessa média de preço, portanto definimos:"
   ]
  },
  {
   "cell_type": "markdown",
   "id": "ebcbc7b3",
   "metadata": {},
   "source": [
    "# Que SP é o melhor estado para se vender um carro de marca popular, além de alcançar um preço de mercado, terá uma maior facilidade em fechar negócio, devido a análise de aceitação das pessoas em comprarem carros de marca popular"
   ]
  },
  {
   "cell_type": "markdown",
   "id": "eca8638f",
   "metadata": {},
   "source": [
    "## Agora vamos responder o próximo problema de negócio"
   ]
  },
  {
   "cell_type": "markdown",
   "id": "93018c99",
   "metadata": {},
   "source": [
    "# Qual o melhor estado para se comprar uma picape com transmissão automática e por quê?"
   ]
  },
  {
   "cell_type": "code",
   "execution_count": 88,
   "id": "21ef245f",
   "metadata": {},
   "outputs": [
    {
     "data": {
      "text/html": [
       "<div>\n",
       "<style scoped>\n",
       "    .dataframe tbody tr th:only-of-type {\n",
       "        vertical-align: middle;\n",
       "    }\n",
       "\n",
       "    .dataframe tbody tr th {\n",
       "        vertical-align: top;\n",
       "    }\n",
       "\n",
       "    .dataframe thead th {\n",
       "        text-align: right;\n",
       "    }\n",
       "</style>\n",
       "<table border=\"1\" class=\"dataframe\">\n",
       "  <thead>\n",
       "    <tr style=\"text-align: right;\">\n",
       "      <th></th>\n",
       "      <th>tipo</th>\n",
       "    </tr>\n",
       "    <tr>\n",
       "      <th>estado_vendedor</th>\n",
       "      <th></th>\n",
       "    </tr>\n",
       "  </thead>\n",
       "  <tbody>\n",
       "    <tr>\n",
       "      <th>São Paulo (SP)</th>\n",
       "      <td>1712</td>\n",
       "    </tr>\n",
       "    <tr>\n",
       "      <th>Paraná (PR)</th>\n",
       "      <td>348</td>\n",
       "    </tr>\n",
       "    <tr>\n",
       "      <th>Rio de Janeiro (RJ)</th>\n",
       "      <td>318</td>\n",
       "    </tr>\n",
       "    <tr>\n",
       "      <th>Santa Catarina (SC)</th>\n",
       "      <td>283</td>\n",
       "    </tr>\n",
       "    <tr>\n",
       "      <th>Minas Gerais (MG)</th>\n",
       "      <td>211</td>\n",
       "    </tr>\n",
       "    <tr>\n",
       "      <th>Rio Grande do Sul (RS)</th>\n",
       "      <td>198</td>\n",
       "    </tr>\n",
       "    <tr>\n",
       "      <th>Goiás (GO)</th>\n",
       "      <td>102</td>\n",
       "    </tr>\n",
       "    <tr>\n",
       "      <th>Bahia (BA)</th>\n",
       "      <td>68</td>\n",
       "    </tr>\n",
       "    <tr>\n",
       "      <th>Pernambuco (PE)</th>\n",
       "      <td>14</td>\n",
       "    </tr>\n",
       "    <tr>\n",
       "      <th>Alagoas (AL)</th>\n",
       "      <td>12</td>\n",
       "    </tr>\n",
       "    <tr>\n",
       "      <th>Acre (AC)</th>\n",
       "      <td>6</td>\n",
       "    </tr>\n",
       "    <tr>\n",
       "      <th>Mato Grosso (MT)</th>\n",
       "      <td>6</td>\n",
       "    </tr>\n",
       "    <tr>\n",
       "      <th>Mato Grosso do Sul (MS)</th>\n",
       "      <td>5</td>\n",
       "    </tr>\n",
       "    <tr>\n",
       "      <th>Sergipe (SE)</th>\n",
       "      <td>5</td>\n",
       "    </tr>\n",
       "    <tr>\n",
       "      <th>Piauí (PI)</th>\n",
       "      <td>4</td>\n",
       "    </tr>\n",
       "    <tr>\n",
       "      <th>Paraíba (PB)</th>\n",
       "      <td>4</td>\n",
       "    </tr>\n",
       "    <tr>\n",
       "      <th>Tocantins (TO)</th>\n",
       "      <td>3</td>\n",
       "    </tr>\n",
       "    <tr>\n",
       "      <th>Rio Grande do Norte (RN)</th>\n",
       "      <td>1</td>\n",
       "    </tr>\n",
       "  </tbody>\n",
       "</table>\n",
       "</div>"
      ],
      "text/plain": [
       "                          tipo\n",
       "estado_vendedor               \n",
       "São Paulo (SP)            1712\n",
       "Paraná (PR)                348\n",
       "Rio de Janeiro (RJ)        318\n",
       "Santa Catarina (SC)        283\n",
       "Minas Gerais (MG)          211\n",
       "Rio Grande do Sul (RS)     198\n",
       "Goiás (GO)                 102\n",
       "Bahia (BA)                  68\n",
       "Pernambuco (PE)             14\n",
       "Alagoas (AL)                12\n",
       "Acre (AC)                    6\n",
       "Mato Grosso (MT)             6\n",
       "Mato Grosso do Sul (MS)      5\n",
       "Sergipe (SE)                 5\n",
       "Piauí (PI)                   4\n",
       "Paraíba (PB)                 4\n",
       "Tocantins (TO)               3\n",
       "Rio Grande do Norte (RN)     1"
      ]
     },
     "execution_count": 88,
     "metadata": {},
     "output_type": "execute_result"
    }
   ],
   "source": [
    "#verificando os estados com maior número de picapes automáticas\n",
    "picape_automatica = df[(df.tipo == 'Picape')& (df.cambio == 'Automática')] [['estado_vendedor','tipo']].groupby('estado_vendedor').count().sort_values('tipo',ascending=False)\n",
    "picape_automatica"
   ]
  },
  {
   "cell_type": "code",
   "execution_count": 89,
   "id": "8bd1ce98",
   "metadata": {},
   "outputs": [
    {
     "name": "stderr",
     "output_type": "stream",
     "text": [
      "No artists with labels found to put in legend.  Note that artists whose label start with an underscore are ignored when legend() is called with no argument.\n"
     ]
    },
    {
     "data": {
      "image/png": "[encoded data removed]",
      "text/plain": [
       "<Figure size 1000x600 with 1 Axes>"
      ]
     },
     "metadata": {},
     "output_type": "display_data"
    }
   ],
   "source": [
    "plt.figure(figsize=(10, 6))\n",
    "sns.barplot(x= picape_automatica[0:5].reset_index()['estado_vendedor'] , y= picape_automatica[0:5].reset_index()['tipo'])\n",
    "plt.xlabel('Estados', fontsize=13)\n",
    "plt.ylabel('Número de Picapes', fontsize=13)\n",
    "plt.title('Picapes Automáticas por estado', fontsize=20)\n",
    "plt.legend(fontsize=10)\n",
    "plt.show()"
   ]
  },
  {
   "cell_type": "code",
   "execution_count": 90,
   "id": "c20e9989",
   "metadata": {},
   "outputs": [],
   "source": [
    "picape_automatica = df[(df.tipo == 'Picape')& (df.cambio == 'Automática')] [['estado_vendedor','preco']].groupby('estado_vendedor').mean().sort_values('preco').reset_index()"
   ]
  },
  {
   "cell_type": "code",
   "execution_count": 91,
   "id": "f5ea11cb",
   "metadata": {},
   "outputs": [],
   "source": [
    "lista = ['São Paulo (SP)','Paraná (PR)','Rio de Janeiro (RJ)','Santa Catarina (SC)','Minas Gerais (MG)']\n",
    "picape_automatica_ = listaFiltro(picape_automatica,'estado_vendedor' ,lista)"
   ]
  },
  {
   "cell_type": "code",
   "execution_count": 92,
   "id": "56947614",
   "metadata": {},
   "outputs": [
    {
     "data": {
      "text/html": [
       "<div>\n",
       "<style scoped>\n",
       "    .dataframe tbody tr th:only-of-type {\n",
       "        vertical-align: middle;\n",
       "    }\n",
       "\n",
       "    .dataframe tbody tr th {\n",
       "        vertical-align: top;\n",
       "    }\n",
       "\n",
       "    .dataframe thead th {\n",
       "        text-align: right;\n",
       "    }\n",
       "</style>\n",
       "<table border=\"1\" class=\"dataframe\">\n",
       "  <thead>\n",
       "    <tr style=\"text-align: right;\">\n",
       "      <th></th>\n",
       "      <th>estado_vendedor</th>\n",
       "      <th>preco</th>\n",
       "    </tr>\n",
       "  </thead>\n",
       "  <tbody>\n",
       "    <tr>\n",
       "      <th>5</th>\n",
       "      <td>Minas Gerais (MG)</td>\n",
       "      <td>9.823477e+15</td>\n",
       "    </tr>\n",
       "    <tr>\n",
       "      <th>6</th>\n",
       "      <td>Paraná (PR)</td>\n",
       "      <td>1.029761e+16</td>\n",
       "    </tr>\n",
       "    <tr>\n",
       "      <th>9</th>\n",
       "      <td>Santa Catarina (SC)</td>\n",
       "      <td>1.056219e+16</td>\n",
       "    </tr>\n",
       "    <tr>\n",
       "      <th>10</th>\n",
       "      <td>Rio de Janeiro (RJ)</td>\n",
       "      <td>1.069470e+16</td>\n",
       "    </tr>\n",
       "    <tr>\n",
       "      <th>12</th>\n",
       "      <td>São Paulo (SP)</td>\n",
       "      <td>1.096151e+16</td>\n",
       "    </tr>\n",
       "  </tbody>\n",
       "</table>\n",
       "</div>"
      ],
      "text/plain": [
       "        estado_vendedor         preco\n",
       "5     Minas Gerais (MG)  9.823477e+15\n",
       "6           Paraná (PR)  1.029761e+16\n",
       "9   Santa Catarina (SC)  1.056219e+16\n",
       "10  Rio de Janeiro (RJ)  1.069470e+16\n",
       "12       São Paulo (SP)  1.096151e+16"
      ]
     },
     "execution_count": 92,
     "metadata": {},
     "output_type": "execute_result"
    }
   ],
   "source": [
    "picape_automatica_.sort_values('preco')"
   ]
  },
  {
   "cell_type": "code",
   "execution_count": 93,
   "id": "18773921",
   "metadata": {},
   "outputs": [
    {
     "name": "stderr",
     "output_type": "stream",
     "text": [
      "No artists with labels found to put in legend.  Note that artists whose label start with an underscore are ignored when legend() is called with no argument.\n"
     ]
    },
    {
     "data": {
      "image/png": "[encoded data removed]",
      "text/plain": [
       "<Figure size 1000x600 with 1 Axes>"
      ]
     },
     "metadata": {},
     "output_type": "display_data"
    }
   ],
   "source": [
    "plt.figure(figsize=(10, 6))\n",
    "sns.barplot(data=picape_automatica_,x='estado_vendedor',y='preco')\n",
    "plt.xlabel('Estados', fontsize=13)\n",
    "plt.ylabel('Preço', fontsize=13)\n",
    "plt.title('Preço das picapes por estado', fontsize=20)\n",
    "plt.legend(fontsize=10)\n",
    "plt.show()"
   ]
  },
  {
   "cell_type": "markdown",
   "id": "60ba4282",
   "metadata": {},
   "source": [
    "# Dentre os estados com maior quantidade de picapes automáticas analisamos também no gráfico os preços, e vimos MG como sendo o estado que se consegue comprar pelo menor preço, por não tem um número tão grande de picapes quanto SP, vamos analisar mais alguns dados de MG"
   ]
  },
  {
   "cell_type": "code",
   "execution_count": 101,
   "id": "4e923c19",
   "metadata": {},
   "outputs": [
    {
     "data": {
      "text/html": [
       "<div>\n",
       "<style scoped>\n",
       "    .dataframe tbody tr th:only-of-type {\n",
       "        vertical-align: middle;\n",
       "    }\n",
       "\n",
       "    .dataframe tbody tr th {\n",
       "        vertical-align: top;\n",
       "    }\n",
       "\n",
       "    .dataframe thead th {\n",
       "        text-align: right;\n",
       "    }\n",
       "</style>\n",
       "<table border=\"1\" class=\"dataframe\">\n",
       "  <thead>\n",
       "    <tr style=\"text-align: right;\">\n",
       "      <th></th>\n",
       "      <th>ipva_pago</th>\n",
       "      <th>dono_aceita_troca</th>\n",
       "    </tr>\n",
       "    <tr>\n",
       "      <th>estado_vendedor</th>\n",
       "      <th></th>\n",
       "      <th></th>\n",
       "    </tr>\n",
       "  </thead>\n",
       "  <tbody>\n",
       "    <tr>\n",
       "      <th>Minas Gerais (MG)</th>\n",
       "      <td>0.611374</td>\n",
       "      <td>0.777251</td>\n",
       "    </tr>\n",
       "  </tbody>\n",
       "</table>\n",
       "</div>"
      ],
      "text/plain": [
       "                   ipva_pago  dono_aceita_troca\n",
       "estado_vendedor                                \n",
       "Minas Gerais (MG)   0.611374           0.777251"
      ]
     },
     "execution_count": 101,
     "metadata": {},
     "output_type": "execute_result"
    }
   ],
   "source": [
    "picape_minas = df[(df.estado_vendedor=='Minas Gerais (MG)')&(df.tipo=='Picape')&(df.cambio=='Automática')]\n",
    "picape_minas[['estado_vendedor','ipva_pago','dono_aceita_troca']].groupby('estado_vendedor').mean()"
   ]
  },
  {
   "cell_type": "markdown",
   "id": "0597c3ce",
   "metadata": {},
   "source": [
    "# Como podemos ver 61% das picapes de minas estão com ipva pago, o que evita que nossa compra aumente de valor em gastos futuros, e também 78% aceitam troca, o que facilitaria nossa negociação, sendo assim reafirmamos Minas Gerais como melhor estado para comprar picapes automáticas\n"
   ]
  },
  {
   "cell_type": "markdown",
   "id": "f8259b64",
   "metadata": {},
   "source": [
    "## **"
   ]
  },
  {
   "cell_type": "markdown",
   "id": "eb49757c",
   "metadata": {},
   "source": [
    "# Qual o melhor estado para se comprar carros que ainda estejam dentro da garantia de fábrica e por quê?"
   ]
  },
  {
   "cell_type": "code",
   "execution_count": 95,
   "id": "b9f7fd67",
   "metadata": {},
   "outputs": [],
   "source": [
    "garantia_de_fabrica = df.copy()"
   ]
  },
  {
   "cell_type": "code",
   "execution_count": 96,
   "id": "50a27c6c",
   "metadata": {},
   "outputs": [],
   "source": [
    "garantia_estado = garantia_de_fabrica[['estado_vendedor','garantia_de_fábrica','preco','revisoes_dentro_agenda']].groupby('estado_vendedor').sum().sort_values('garantia_de_fábrica',ascending=False)[0:5].reset_index()"
   ]
  },
  {
   "cell_type": "code",
   "execution_count": 97,
   "id": "4562bb87",
   "metadata": {},
   "outputs": [
    {
     "name": "stderr",
     "output_type": "stream",
     "text": [
      "No artists with labels found to put in legend.  Note that artists whose label start with an underscore are ignored when legend() is called with no argument.\n"
     ]
    },
    {
     "data": {
      "image/png": "[encoded data removed]",
      "text/plain": [
       "<Figure size 1000x600 with 1 Axes>"
      ]
     },
     "metadata": {},
     "output_type": "display_data"
    }
   ],
   "source": [
    "plt.figure(figsize=(10, 6))\n",
    "sns.barplot(data=garantia_estado,x='estado_vendedor',y='garantia_de_fábrica')\n",
    "plt.xlabel('Estados', fontsize=13)\n",
    "plt.ylabel('Número de carros com garantia', fontsize=13)\n",
    "plt.title('Estados com maior número de carros com garantia de fábrica', fontsize=15)\n",
    "plt.legend(fontsize=10)\n",
    "plt.show()"
   ]
  },
  {
   "cell_type": "code",
   "execution_count": 98,
   "id": "b092a35f",
   "metadata": {},
   "outputs": [],
   "source": [
    "#selecionando os estados com maior número de carros com garantia para analisar mais a fundo\n",
    "lista = ['São Paulo (SP)','Paraná (PR)','Rio de Janeiro (RJ)','Santa Catarina (SC)','Rio Grande do Sul (RS)']\n",
    "garantia_revisao = listaFiltro(df,'estado_vendedor' ,lista)"
   ]
  },
  {
   "cell_type": "markdown",
   "id": "50cc6813",
   "metadata": {},
   "source": [
    "# Visto que para a garantia de fábrica poder ser acionada, as revisões precisam estar em dia, vamos filtrar essa condição para analisar o preço"
   ]
  },
  {
   "cell_type": "code",
   "execution_count": 99,
   "id": "7a8c2872",
   "metadata": {},
   "outputs": [
    {
     "data": {
      "text/html": [
       "<div>\n",
       "<style scoped>\n",
       "    .dataframe tbody tr th:only-of-type {\n",
       "        vertical-align: middle;\n",
       "    }\n",
       "\n",
       "    .dataframe tbody tr th {\n",
       "        vertical-align: top;\n",
       "    }\n",
       "\n",
       "    .dataframe thead th {\n",
       "        text-align: right;\n",
       "    }\n",
       "</style>\n",
       "<table border=\"1\" class=\"dataframe\">\n",
       "  <thead>\n",
       "    <tr style=\"text-align: right;\">\n",
       "      <th></th>\n",
       "      <th>estado_vendedor</th>\n",
       "      <th>preco</th>\n",
       "    </tr>\n",
       "  </thead>\n",
       "  <tbody>\n",
       "    <tr>\n",
       "      <th>0</th>\n",
       "      <td>Santa Catarina (SC)</td>\n",
       "      <td>1.136324e+16</td>\n",
       "    </tr>\n",
       "    <tr>\n",
       "      <th>1</th>\n",
       "      <td>Rio Grande do Sul (RS)</td>\n",
       "      <td>1.100160e+16</td>\n",
       "    </tr>\n",
       "    <tr>\n",
       "      <th>2</th>\n",
       "      <td>Paraná (PR)</td>\n",
       "      <td>1.093814e+16</td>\n",
       "    </tr>\n",
       "    <tr>\n",
       "      <th>3</th>\n",
       "      <td>Rio de Janeiro (RJ)</td>\n",
       "      <td>1.072757e+16</td>\n",
       "    </tr>\n",
       "    <tr>\n",
       "      <th>4</th>\n",
       "      <td>São Paulo (SP)</td>\n",
       "      <td>9.900599e+15</td>\n",
       "    </tr>\n",
       "  </tbody>\n",
       "</table>\n",
       "</div>"
      ],
      "text/plain": [
       "          estado_vendedor         preco\n",
       "0     Santa Catarina (SC)  1.136324e+16\n",
       "1  Rio Grande do Sul (RS)  1.100160e+16\n",
       "2             Paraná (PR)  1.093814e+16\n",
       "3     Rio de Janeiro (RJ)  1.072757e+16\n",
       "4          São Paulo (SP)  9.900599e+15"
      ]
     },
     "execution_count": 99,
     "metadata": {},
     "output_type": "execute_result"
    }
   ],
   "source": [
    "estado_preco = garantia_revisao[(garantia_revisao.garantia_de_fábrica==1)&(garantia_revisao.revisoes_dentro_agenda==1)][['estado_vendedor','preco']].groupby('estado_vendedor').mean().sort_values('preco',ascending=False).reset_index()\n",
    "estado_preco"
   ]
  },
  {
   "cell_type": "code",
   "execution_count": 100,
   "id": "04383a8c",
   "metadata": {},
   "outputs": [
    {
     "name": "stderr",
     "output_type": "stream",
     "text": [
      "No artists with labels found to put in legend.  Note that artists whose label start with an underscore are ignored when legend() is called with no argument.\n"
     ]
    },
    {
     "data": {
      "image/png": "[encoded data removed]",
      "text/plain": [
       "<Figure size 1000x600 with 1 Axes>"
      ]
     },
     "metadata": {},
     "output_type": "display_data"
    }
   ],
   "source": [
    "plt.figure(figsize=(10, 6))\n",
    "sns.barplot(data=estado_preco,x='estado_vendedor',y='preco')\n",
    "plt.xlabel('Estados', fontsize=10)\n",
    "plt.ylabel('Média de Preço', fontsize=10)\n",
    "plt.title('Média de preços nos estados que mais contém veículos com garantia de fábrica', fontsize=10)\n",
    "plt.legend(fontsize=10)\n",
    "plt.show()"
   ]
  },
  {
   "cell_type": "markdown",
   "id": "0d92ad3e",
   "metadata": {},
   "source": [
    "# Como SP é o estado que mais contém veículos com garantia de fábrica, e além disso tem a menor média de preço nas condições necessárias para a garantia ser efetuada, definimos SP como o melhor estado para comprar veículos na garantia"
   ]
  }
 ],
 "metadata": {
  "kernelspec": {
   "display_name": "Python 3 (ipykernel)",
   "language": "python",
   "name": "python3"
  },
  "language_info": {
   "codemirror_mode": {
    "name": "ipython",
    "version": 3
   },
   "file_extension": ".py",
   "mimetype": "text/x-python",
   "name": "python",
   "nbconvert_exporter": "python",
   "pygments_lexer": "ipython3",
   "version": "3.9.13"
  }
 },
 "nbformat": 4,
 "nbformat_minor": 5
}
